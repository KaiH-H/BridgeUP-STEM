{
 "cells": [
  {
   "cell_type": "markdown",
   "metadata": {},
   "source": [
    "# Introducing Dictionaries\n",
    "\n",
    "Dictionaries are a convenient way of storing data in Python.  A dictionary in Python is like a dictionary in the real world.  \n",
    "\n",
    "In the real world, a dictionary consists of **words** and their **definitions**. In Python, a dictionary consists of **keys** and their **values**.\n",
    "\n",
    "Use this Jupyter Notebook to explore this new data type."
   ]
  },
  {
   "cell_type": "markdown",
   "metadata": {},
   "source": [
    "### Use this cell for the live code session:"
   ]
  },
  {
   "cell_type": "code",
   "execution_count": 15,
   "metadata": {},
   "outputs": [
    {
     "name": "stdout",
     "output_type": "stream",
     "text": [
      "dilution\n",
      "\n",
      "The strawberries was used for DNA source\n"
     ]
    }
   ],
   "source": [
    "strawberry_dict = {\"rubbing alcohol\":\"Seperates DNA\", \"strawberries\":\"DNA source\", \n",
    "                   \"water\":\"dilution\", \"detergent\":\"breaks cell wall\"}\n",
    "print(strawberry_dict[\"water\"])\n",
    "print()\n",
    "\n",
    "ingredient = \"strawberries\"\n",
    "sentence = \"The \" + ingredient + \" was used for \" + strawberry_dict[ingredient]\n",
    "print(sentence)"
   ]
  },
  {
   "cell_type": "markdown",
   "metadata": {},
   "source": [
    "### Run the following cells to practice using dictionaries:"
   ]
  },
  {
   "cell_type": "code",
   "execution_count": 1,
   "metadata": {},
   "outputs": [],
   "source": [
    "# We will create a new dictionary\n",
    "switchDict = {0:\"off\", 1:\"on\"} # Notice that you can use integers as keys and strings as values if you want"
   ]
  },
  {
   "cell_type": "code",
   "execution_count": 2,
   "metadata": {},
   "outputs": [
    {
     "name": "stdout",
     "output_type": "stream",
     "text": [
      "off\n"
     ]
    }
   ],
   "source": [
    "# print out the value for the 0 key\n",
    "print(switchDict[0])"
   ]
  },
  {
   "cell_type": "code",
   "execution_count": 5,
   "metadata": {},
   "outputs": [
    {
     "name": "stdout",
     "output_type": "stream",
     "text": [
      "{'Score': 20, 'One Gross': 144, 'Dozen': 12, \"Baker's Dozen\": 13}\n"
     ]
    }
   ],
   "source": [
    "# Here's another dictionary\n",
    "countDict = {\"Dozen\":12, \"Baker's Dozen\": 13, \"Score\":20, \"One Gross\":144}\n",
    "print(countDict)"
   ]
  },
  {
   "cell_type": "markdown",
   "metadata": {},
   "source": [
    "**Notice:** The keys and values in a Python dictionary don't stay in the order you added them. This is different than a list!"
   ]
  },
  {
   "cell_type": "code",
   "execution_count": 6,
   "metadata": {},
   "outputs": [
    {
     "name": "stdout",
     "output_type": "stream",
     "text": [
      "12\n"
     ]
    }
   ],
   "source": [
    "# Let's print out the value for the \"Dozen\" key:\n",
    "print(countDict[\"Dozen\"])"
   ]
  },
  {
   "cell_type": "markdown",
   "metadata": {},
   "source": [
    "You can add a new key/value pair to a dictionary:"
   ]
  },
  {
   "cell_type": "code",
   "execution_count": 7,
   "metadata": {},
   "outputs": [
    {
     "name": "stdout",
     "output_type": "stream",
     "text": [
      "{'Score': 20, 'One Gross': 144, 'Dozen': 12, \"Baker's Dozen\": 13, 'Half Dozen': 6}\n"
     ]
    }
   ],
   "source": [
    "countDict[\"Half Dozen\"] = 6\n",
    "print(countDict)"
   ]
  },
  {
   "cell_type": "markdown",
   "metadata": {},
   "source": [
    "You can use conditionals with dictionary keys:"
   ]
  },
  {
   "cell_type": "code",
   "execution_count": 11,
   "metadata": {},
   "outputs": [
    {
     "name": "stdout",
     "output_type": "stream",
     "text": [
      "A score is greater than 19\n"
     ]
    }
   ],
   "source": [
    "if countDict[\"Score\"] > 19:\n",
    "    print(\"A score is greater than 19\")"
   ]
  },
  {
   "cell_type": "markdown",
   "metadata": {},
   "source": [
    "You can delete a key/value pair from a dictionary:"
   ]
  },
  {
   "cell_type": "code",
   "execution_count": 10,
   "metadata": {},
   "outputs": [
    {
     "name": "stdout",
     "output_type": "stream",
     "text": [
      "{'Score': 20, 'One Gross': 144, \"Baker's Dozen\": 13, 'Half Dozen': 6}\n"
     ]
    }
   ],
   "source": [
    "del countDict[\"Dozen\"]\n",
    "print(countDict)"
   ]
  },
  {
   "cell_type": "markdown",
   "metadata": {},
   "source": [
    "### Your turn!\n",
    "Create a dictionary called favoriteDict with the following keys: \"food\", \"number\", \"season\", \"age\", \"color\". Fill in the values according to your favorites."
   ]
  },
  {
   "cell_type": "code",
   "execution_count": 3,
   "metadata": {},
   "outputs": [],
   "source": [
    "favdic = {\"food\":\"octopus\", \"number\":13, \"season\":\"Autumn\", \"age\":15, \"color\":\"navy blue\"}"
   ]
  },
  {
   "cell_type": "markdown",
   "metadata": {},
   "source": [
    "Now print out the value paired with the \"food\" key:"
   ]
  },
  {
   "cell_type": "code",
   "execution_count": 4,
   "metadata": {},
   "outputs": [
    {
     "name": "stdout",
     "output_type": "stream",
     "text": [
      "octopus\n"
     ]
    }
   ],
   "source": [
    "print(favdic[\"food\"])"
   ]
  },
  {
   "cell_type": "markdown",
   "metadata": {},
   "source": [
    "Write a conditional that prints out \"my favorite number is greater than 5\" or \"my favorite number is less than 5\" depending on your favorite number:"
   ]
  },
  {
   "cell_type": "code",
   "execution_count": 19,
   "metadata": {},
   "outputs": [
    {
     "name": "stdout",
     "output_type": "stream",
     "text": [
      "My favorite number is greater than 5\n"
     ]
    }
   ],
   "source": [
    "if favdic[\"number\"] < 5:\n",
    "    print(\"My favorite number is less than 5\")\n",
    "elif favdic[\"number\"] > 5:\n",
    "    print(\"My favorite number is greater than 5\")\n",
    "    "
   ]
  },
  {
   "cell_type": "markdown",
   "metadata": {},
   "source": [
    "Add a new value/key pair for your favorite animal:"
   ]
  },
  {
   "cell_type": "code",
   "execution_count": 9,
   "metadata": {},
   "outputs": [
    {
     "name": "stdout",
     "output_type": "stream",
     "text": [
      "{'food': 'octopus', 'number': 13, 'season': 'Autumn', 'age': 15, 'color': 'navy blue', 'animal': 'flamingo'}\n"
     ]
    }
   ],
   "source": [
    "favdic[\"animal\"] = \"flamingo\"\n",
    "\n",
    "print(favdic)"
   ]
  },
  {
   "cell_type": "markdown",
   "metadata": {},
   "source": [
    "Delete the value/key pair for your favorite season:"
   ]
  },
  {
   "cell_type": "code",
   "execution_count": 10,
   "metadata": {},
   "outputs": [
    {
     "name": "stdout",
     "output_type": "stream",
     "text": [
      "{'food': 'octopus', 'number': 13, 'age': 15, 'color': 'navy blue', 'animal': 'flamingo'}\n"
     ]
    }
   ],
   "source": [
    "del favdic[\"season\"]\n",
    "\n",
    "print(favdic)"
   ]
  },
  {
   "cell_type": "markdown",
   "metadata": {},
   "source": [
    "## Coding Challenge\n",
    "You can loop through the keys in a dictionary. Try creating a new dictionary and using a for loop and conditionals to analyze it:"
   ]
  },
  {
   "cell_type": "code",
   "execution_count": 30,
   "metadata": {},
   "outputs": [],
   "source": [
    "agesdict = {\"James\":14, \"Bobert\":7, \"William\":28, \"Charles\":43, \"Susan\":61, \"Stanely\":89, \n",
    "            \"Beatrice\":72, \"David\":34}"
   ]
  },
  {
   "cell_type": "code",
   "execution_count": null,
   "metadata": {},
   "outputs": [],
   "source": []
  }
 ],
 "metadata": {
  "kernelspec": {
   "display_name": "Python 3",
   "language": "python",
   "name": "python3"
  },
  "language_info": {
   "codemirror_mode": {
    "name": "ipython",
    "version": 3
   },
   "file_extension": ".py",
   "mimetype": "text/x-python",
   "name": "python",
   "nbconvert_exporter": "python",
   "pygments_lexer": "ipython3",
   "version": "3.6.5"
  }
 },
 "nbformat": 4,
 "nbformat_minor": 2
}
