{
 "cells": [
  {
   "cell_type": "markdown",
   "metadata": {},
   "source": [
    "# Identifying Butterfly Species\n",
    "\n",
    "In this notebook you will get to use your transcription and translation functions to analyze the same gene from four butterflies and find out which pairs are the same species!"
   ]
  },
  {
   "cell_type": "markdown",
   "metadata": {},
   "source": [
    "First, copy and paste your transcription and translation functions here:"
   ]
  },
  {
   "cell_type": "code",
   "execution_count": 1,
   "metadata": {},
   "outputs": [],
   "source": [
    "# Paste your transcription function here\n",
    "\n",
    "def transcribe(DNAseq):\n",
    "    \n",
    "    RNA = \"\"\n",
    "    \n",
    "    for base in DNAseq:\n",
    "        if base == \"A\":\n",
    "            RNA += \"U\"\n",
    "        elif base == \"T\":\n",
    "            RNA += \"A\"\n",
    "        elif base == \"G\":\n",
    "            RNA += \"C\"\n",
    "        elif base == \"C\":\n",
    "            RNA += \"G\"\n",
    "        else:\n",
    "            continue\n",
    "    return RNA"
   ]
  },
  {
   "cell_type": "code",
   "execution_count": 2,
   "metadata": {},
   "outputs": [],
   "source": [
    "# Paste your translation function here\n",
    "\n",
    "def translate(RNAseq):\n",
    "    protein = \"\"\n",
    "    codon = \"\"\n",
    "\n",
    "    for i in RNAseq:\n",
    "        if len(codon) == 3:\n",
    "            protein += codon_dict[codon] \n",
    "            codon = \"\" \n",
    "            codon += i \n",
    "        else:\n",
    "            codon += i \n",
    "    return protein"
   ]
  },
  {
   "cell_type": "code",
   "execution_count": 3,
   "metadata": {},
   "outputs": [],
   "source": [
    "codon_dict = {\"UUU\":\"F\",\"UUC\":\"F\",\"UUA\":\"L\",\"UUG\":\"L\", \"CUU\":\"L\",\"CUC\":\"L\", \n",
    "             \"CUA\":\"L\",\"CUG\":\"L\",\"AUU\":\"I\",\"AUC\":\"I\",\"AUA\":\"I\",\"AUG\":\"M\",\n",
    "             \"GUU\":\"V\",\"GUC\":\"V\",\"GUA\":\"V\",\"GUG\":\"V\",\"UCU\":\"S\",\"UCC\":\"S\",\n",
    "             \"UCA\":\"S\",\"UCG\":\"S\",\"CCU\":\"P\",\"CCC\":\"P\",\"CCA\":\"P\",\"CCG\":\"P\",\n",
    "             \"ACU\":\"T\",\"ACC\":\"T\",\"ACA\":\"T\",\"ACG\":\"T\",\"GCU\":\"A\",\"GCC\":\"A\",\n",
    "             \"GCA\":\"A\",\"GCG\":\"A\",\"UAU\":\"Y\",\"UAC\":\"Y\",\"UAA\":\"STOP\",\"UAG\":\"STOP\",\n",
    "             \"UGA\":\"STOP\",\"CAU\":\"H\",\"CAC\":\"H\",\"CAA\":\"Q\",\"CAG\":\"Q\",\"AAU\":\"N\",\n",
    "             \"AAC\":\"N\",\"AAA\":\"K\",\"AAG\":\"K\",\"GAU\":\"D\",\"GAC\":\"D\",\"GAA\":\"E\",\n",
    "             \"GAG\":\"E\",\"UGU\":\"C\",\"UGC\":\"C\",\"UGG\":\"W\",\"CGU\":\"R\",\"CGC\":\"R\",\n",
    "             \"CGA\":\"R\",\"CGG\":\"R\",\"AGU\":\"S\",\"AGC\":\"S\",\"AGA\":\"R\",\"AGG\":\"R\",\n",
    "             \"GGU\":\"G\",\"GGC\":\"G\",\"GGA\":\"G\",\"GGG\":\"G\"}"
   ]
  },
  {
   "cell_type": "markdown",
   "metadata": {},
   "source": [
    "## Pair Coding Time!!! \n",
    "### Step 1: Make sure you know who the typing partner and the guiding partner are.\n",
    "Open the four butterfly DNA files that have been shared on Slack, read them as strings, and assign them to variables:"
   ]
  },
  {
   "cell_type": "code",
   "execution_count": 4,
   "metadata": {},
   "outputs": [],
   "source": [
    "# You will need the open() function and the .read() method\n",
    "A = open(\"Butterfly_A_DNA.txt\").read()\n",
    "B = open(\"Butterfly_B_DNA.txt\").read()\n",
    "C = open(\"Butterfly_C_DNA.txt\").read()\n",
    "D = open(\"Butterfly_D_DNA.txt\").read()"
   ]
  },
  {
   "cell_type": "markdown",
   "metadata": {},
   "source": [
    "Next find the amino acid sequence for each butterfly and store it in a variable."
   ]
  },
  {
   "cell_type": "code",
   "execution_count": 8,
   "metadata": {},
   "outputs": [
    {
     "name": "stdout",
     "output_type": "stream",
     "text": [
      "RFQRSSHAKLQALWLEAHYQEAERLRGRPLGPVDKYRVRKKFPLPRTIWDGEQKTHCFKERTRSLLREWYLQDPYPNPTKKRELAAATGLTPTQVGNWFKNRRQRDRAAAAKNRSAVLGRGFASSSTYDEDSADSEINVDE\n",
      "\n",
      "RFQRSSHAKLQALWLEAHYQEAERLRGRPLGPVDKYRVRKKFPLPRTIWDGEQKTHCFKERTRSLLREWYLQDPYPNPTKKRELAAATGLTPTQVGNWFKNRRQRDRAAAAKNRSAVLGRGFASSSTYDEDSADSEINVDE\n",
      "\n",
      "RFQRSSHAKLQALWLEAHYQEAERLRGRPLGPVDKYRVRKKFPLPRTIWDGEQKTHCFKERTRSLLREWYLQDPYPNPTKKRELAAATGLTPTQVGNWFKNRRQRDRAAAAKNRSAVLGRGFASSSTYDEDSADSEINVDE\n",
      "\n",
      "RFQRSSHAKLQALWLEAHYQEAERLRGRPLGPVDKYRVRKKFPLPRTIWDGEQKTHCFKERTRSLLREWYLQDPYPNPTKKRELAAATGLTPTQVGNWFKNRRQRDRAAAAKNRSAVLGRGFASSSTYDEDSADSEINVDE\n"
     ]
    }
   ],
   "source": [
    "# Hint: You will need to use your functions\n",
    "\n",
    "aRNA = transcribe(A)\n",
    "proteinA = translate(aRNA)\n",
    "print(proteinA)\n",
    "\n",
    "print()\n",
    "\n",
    "bRNA = transcribe(B)\n",
    "proteinB = translate(bRNA)\n",
    "print(proteinB)\n",
    "\n",
    "print()\n",
    "\n",
    "cRNA = transcribe(C)\n",
    "proteinC = translate(cRNA)\n",
    "print(proteinC)\n",
    "\n",
    "print()\n",
    "\n",
    "dRNA = transcribe(D)\n",
    "proteinD = translate(dRNA)\n",
    "print(proteinD)"
   ]
  },
  {
   "cell_type": "markdown",
   "metadata": {},
   "source": [
    "### Step 2: Swap typing partner and the guiding partners!\n",
    "How can we find out how many differences there are between each pair of protein sequences? \n",
    "Create a function that compares two sequences and returns the number of differences:"
   ]
  },
  {
   "cell_type": "code",
   "execution_count": 29,
   "metadata": {},
   "outputs": [
    {
     "name": "stdout",
     "output_type": "stream",
     "text": [
      "0 is element 0\n",
      "1 is element 1\n",
      "3 is element 2\n",
      "5 is element 3\n",
      "6 is element 4\n",
      "7 is element 5\n"
     ]
    },
    {
     "ename": "NameError",
     "evalue": "name 'protein2' is not defined",
     "output_type": "error",
     "traceback": [
      "\u001b[0;31m---------------------------------------------------------------------------\u001b[0m",
      "\u001b[0;31mNameError\u001b[0m                                 Traceback (most recent call last)",
      "\u001b[0;32m<ipython-input-29-c30054deaac3>\u001b[0m in \u001b[0;36m<module>\u001b[0;34m()\u001b[0m\n\u001b[1;32m     23\u001b[0m             \u001b[0;32mcontinue\u001b[0m\u001b[0;34m\u001b[0m\u001b[0m\n\u001b[1;32m     24\u001b[0m \u001b[0;34m\u001b[0m\u001b[0m\n\u001b[0;32m---> 25\u001b[0;31m \u001b[0mdiff\u001b[0m\u001b[0;34m(\u001b[0m\u001b[0mproteinA\u001b[0m\u001b[0;34m)\u001b[0m\u001b[0;34m\u001b[0m\u001b[0m\n\u001b[0m\u001b[1;32m     26\u001b[0m \u001b[0;34m\u001b[0m\u001b[0m\n",
      "\u001b[0;32m<ipython-input-29-c30054deaac3>\u001b[0m in \u001b[0;36mdiff\u001b[0;34m(protein)\u001b[0m\n\u001b[1;32m     18\u001b[0m \u001b[0;34m\u001b[0m\u001b[0m\n\u001b[1;32m     19\u001b[0m     \u001b[0;32mfor\u001b[0m \u001b[0mc\u001b[0m\u001b[0;34m,\u001b[0m \u001b[0mi\u001b[0m \u001b[0;32min\u001b[0m \u001b[0menumerate\u001b[0m\u001b[0;34m(\u001b[0m\u001b[0mprotein\u001b[0m\u001b[0;34m)\u001b[0m\u001b[0;34m:\u001b[0m\u001b[0;34m\u001b[0m\u001b[0m\n\u001b[0;32m---> 20\u001b[0;31m         \u001b[0;32mif\u001b[0m \u001b[0mi\u001b[0m \u001b[0;34m!=\u001b[0m \u001b[0mprotein2\u001b[0m\u001b[0;34m[\u001b[0m\u001b[0mc\u001b[0m\u001b[0;34m]\u001b[0m\u001b[0;34m:\u001b[0m\u001b[0;34m\u001b[0m\u001b[0m\n\u001b[0m\u001b[1;32m     21\u001b[0m             \u001b[0mdiff\u001b[0m \u001b[0;34m+=\u001b[0m \u001b[0;36m1\u001b[0m\u001b[0;34m\u001b[0m\u001b[0m\n\u001b[1;32m     22\u001b[0m         \u001b[0;32melse\u001b[0m\u001b[0;34m:\u001b[0m\u001b[0;34m\u001b[0m\u001b[0m\n",
      "\u001b[0;31mNameError\u001b[0m: name 'protein2' is not defined"
     ]
    }
   ],
   "source": [
    "# Hint, you will need the enumerate() function. You can use this in \"for loops\" that loop through strings or lists.\n",
    "# Remember, you must specify two variables in your \"for loop\": one for the index counter and one for the character.\n",
    "\n",
    "# example: for c, i in enumerate(my_list):\n",
    "    # print(i + \" is element \" + c)\n",
    "    \n",
    "    \n",
    "my_list = [0, 1, 3,5, 6, 7]\n",
    "\n",
    "for c, i in enumerate(my_list):\n",
    "    print(str(i) + \" is element \" + str(c))\n",
    "\n",
    "\n",
    "    \n",
    "def diff(protein):\n",
    "  \n",
    "    diff = 0\n",
    "\n",
    "    for c, i in enumerate(protein):\n",
    "        if i != protein2[c]:\n",
    "            diff += 1\n",
    "        else:\n",
    "            continue\n",
    "    \n",
    "diff(proteinA) \n",
    "    "
   ]
  },
  {
   "cell_type": "markdown",
   "metadata": {},
   "source": [
    "### Step 3: Swap typing partner and the guiding partners!"
   ]
  },
  {
   "cell_type": "markdown",
   "metadata": {},
   "source": [
    "Run your function for each pair of butterfly protein sequences:"
   ]
  },
  {
   "cell_type": "code",
   "execution_count": null,
   "metadata": {},
   "outputs": [],
   "source": [
    "# Hint: You will need to run the function 6 times\n"
   ]
  },
  {
   "cell_type": "markdown",
   "metadata": {},
   "source": [
    "If you got 0 differences for all 6, that's correct! We'll have to look elsewhere for the differences in the butterfly genes.\n",
    "\n",
    "### Step 4: Swap typing partner and the guiding partners!\n",
    "\n",
    "Try running your function for the DNA sequences instead of the protein sequences (*Notice that you can use the same function for both kinds of sequences!)*:"
   ]
  },
  {
   "cell_type": "code",
   "execution_count": null,
   "metadata": {},
   "outputs": [],
   "source": []
  },
  {
   "cell_type": "markdown",
   "metadata": {},
   "source": [
    "Based on the number of differences, do you have a guess about which two butterflies are the same species?"
   ]
  },
  {
   "cell_type": "markdown",
   "metadata": {},
   "source": [
    "## Exploring SNPs\n",
    "### Step 5: Swap typing partner and the guiding partners!\n",
    "These DNA differences are actually known variations between species. Called \"single nucleotide polymorphisms\" or SNPs, they can be used to identify a particular species. \n",
    "\n",
    "Using the two dictionaries below, create a function that takes a DNA sequence and a basepair position and returns the butterfly species:"
   ]
  },
  {
   "cell_type": "code",
   "execution_count": null,
   "metadata": {
    "collapsed": true
   },
   "outputs": [],
   "source": [
    "# melpomene and erato are two Heliconius butterfly species\n",
    "# These dictionaries have the DNA basepair # as the key and the chemical base as the value\n",
    "\n",
    "melpomene = {36:\"A\", 156:\"C\", 177:\"T\", 213:\"C\", 276:\"A\", 291:\"A\", 315:\"A\", 333:\"G\", 405:\"C\"}\n",
    "erato = {36:\"G\", 156:\"T\", 177:\"C\", 213:\"T\", 276:\"C\", 291:\"G\", 315:\"C\", 333:\"A\", 405:\"T\"}\n",
    "\n",
    "# Create your function here:\n"
   ]
  },
  {
   "cell_type": "markdown",
   "metadata": {},
   "source": [
    "Call your function for the following combinations and print out the results:\n",
    "- Butterfly A, bp 36\n",
    "- Butterfly B, bp 177\n",
    "- Butterfly C, bp 291\n",
    "- Butterfly D, bp 405"
   ]
  },
  {
   "cell_type": "code",
   "execution_count": null,
   "metadata": {},
   "outputs": [],
   "source": []
  },
  {
   "cell_type": "markdown",
   "metadata": {},
   "source": [
    "## Coding Challenge\n",
    "Why do you think these changes to the DNA sequences don't have any effect on the protein sequence?\n",
    "\n",
    "Write a function that tests your hypothesis:"
   ]
  },
  {
   "cell_type": "code",
   "execution_count": null,
   "metadata": {
    "collapsed": true
   },
   "outputs": [],
   "source": []
  }
 ],
 "metadata": {
  "kernelspec": {
   "display_name": "Python 3",
   "language": "python",
   "name": "python3"
  },
  "language_info": {
   "codemirror_mode": {
    "name": "ipython",
    "version": 3
   },
   "file_extension": ".py",
   "mimetype": "text/x-python",
   "name": "python",
   "nbconvert_exporter": "python",
   "pygments_lexer": "ipython3",
   "version": "3.6.5"
  }
 },
 "nbformat": 4,
 "nbformat_minor": 2
}
