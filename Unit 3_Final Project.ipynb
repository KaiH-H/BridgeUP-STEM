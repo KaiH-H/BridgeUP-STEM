{
 "cells": [
  {
   "cell_type": "markdown",
   "metadata": {},
   "source": [
    "# How to Seperate Star Cluster from Others"
   ]
  },
  {
   "cell_type": "code",
   "execution_count": 1,
   "metadata": {},
   "outputs": [
    {
     "data": {
      "text/html": [
       "<div>\n",
       "<style scoped>\n",
       "    .dataframe tbody tr th:only-of-type {\n",
       "        vertical-align: middle;\n",
       "    }\n",
       "\n",
       "    .dataframe tbody tr th {\n",
       "        vertical-align: top;\n",
       "    }\n",
       "\n",
       "    .dataframe thead th {\n",
       "        text-align: right;\n",
       "    }\n",
       "</style>\n",
       "<table border=\"1\" class=\"dataframe\">\n",
       "  <thead>\n",
       "    <tr style=\"text-align: right;\">\n",
       "      <th></th>\n",
       "      <th>column 1</th>\n",
       "      <th>column 2</th>\n",
       "    </tr>\n",
       "  </thead>\n",
       "  <tbody>\n",
       "    <tr>\n",
       "      <th>0</th>\n",
       "      <td>20</td>\n",
       "      <td>0</td>\n",
       "    </tr>\n",
       "    <tr>\n",
       "      <th>1</th>\n",
       "      <td>50</td>\n",
       "      <td>1</td>\n",
       "    </tr>\n",
       "    <tr>\n",
       "      <th>2</th>\n",
       "      <td>15</td>\n",
       "      <td>1</td>\n",
       "    </tr>\n",
       "    <tr>\n",
       "      <th>3</th>\n",
       "      <td>50</td>\n",
       "      <td>1</td>\n",
       "    </tr>\n",
       "    <tr>\n",
       "      <th>4</th>\n",
       "      <td>65</td>\n",
       "      <td>0</td>\n",
       "    </tr>\n",
       "    <tr>\n",
       "      <th>5</th>\n",
       "      <td>50</td>\n",
       "      <td>0</td>\n",
       "    </tr>\n",
       "    <tr>\n",
       "      <th>6</th>\n",
       "      <td>10</td>\n",
       "      <td>1</td>\n",
       "    </tr>\n",
       "  </tbody>\n",
       "</table>\n",
       "</div>"
      ],
      "text/plain": [
       "   column 1  column 2\n",
       "0        20         0\n",
       "1        50         1\n",
       "2        15         1\n",
       "3        50         1\n",
       "4        65         0\n",
       "5        50         0\n",
       "6        10         1"
      ]
     },
     "execution_count": 1,
     "metadata": {},
     "output_type": "execute_result"
    }
   ],
   "source": [
    "import pandas as pd\n",
    "\n",
    "sample_df = pd.DataFrame({\"column 1\": [20,50,15,50,65,50,10], \"column 2\": [0,1,1,1,0,0,1]})\n",
    "sample_df"
   ]
  },
  {
   "cell_type": "markdown",
   "metadata": {},
   "source": [
    "You can use the .loc index method to select all the items in one column which have a particular value in the second column"
   ]
  },
  {
   "cell_type": "code",
   "execution_count": 2,
   "metadata": {},
   "outputs": [
    {
     "name": "stdout",
     "output_type": "stream",
     "text": [
      "0    20\n",
      "4    65\n",
      "5    50\n",
      "Name: column 1, dtype: int64\n"
     ]
    }
   ],
   "source": [
    "value0 = sample_df[\"column 1\"].loc[sample_df[\"column 2\"] == 0]\n",
    "\n",
    "print(value0)"
   ]
  },
  {
   "cell_type": "code",
   "execution_count": 3,
   "metadata": {},
   "outputs": [
    {
     "name": "stdout",
     "output_type": "stream",
     "text": [
      "1    50\n",
      "2    15\n",
      "3    50\n",
      "6    10\n",
      "Name: column 1, dtype: int64\n"
     ]
    }
   ],
   "source": [
    "value1 = sample_df[\"column 1\"].loc[sample_df[\"column 2\"] == 1]\n",
    "\n",
    "print(value1)"
   ]
  },
  {
   "cell_type": "code",
   "execution_count": 4,
   "metadata": {},
   "outputs": [
    {
     "name": "stdout",
     "output_type": "stream",
     "text": [
      "1    1\n",
      "3    1\n",
      "5    0\n",
      "Name: column 2, dtype: int64\n"
     ]
    }
   ],
   "source": [
    "value50 = sample_df[\"column 2\"].loc[sample_df[\"column 1\"] == 50]\n",
    "\n",
    "print(value50)"
   ]
  },
  {
   "cell_type": "markdown",
   "metadata": {},
   "source": [
    "# Code for Graph"
   ]
  },
  {
   "cell_type": "markdown",
   "metadata": {},
   "source": [
    "#### Import libraries"
   ]
  },
  {
   "cell_type": "code",
   "execution_count": 5,
   "metadata": {},
   "outputs": [
    {
     "data": {
      "text/html": [
       "<div>\n",
       "<style scoped>\n",
       "    .dataframe tbody tr th:only-of-type {\n",
       "        vertical-align: middle;\n",
       "    }\n",
       "\n",
       "    .dataframe tbody tr th {\n",
       "        vertical-align: top;\n",
       "    }\n",
       "\n",
       "    .dataframe thead th {\n",
       "        text-align: right;\n",
       "    }\n",
       "</style>\n",
       "<table border=\"1\" class=\"dataframe\">\n",
       "  <thead>\n",
       "    <tr style=\"text-align: right;\">\n",
       "      <th></th>\n",
       "      <th>row_id</th>\n",
       "      <th>tgas_source_id</th>\n",
       "      <th>name</th>\n",
       "      <th>ra</th>\n",
       "      <th>dec</th>\n",
       "      <th>parallax</th>\n",
       "      <th>distance</th>\n",
       "      <th>G</th>\n",
       "      <th>J</th>\n",
       "      <th>rave_obs_id</th>\n",
       "      <th>rv</th>\n",
       "      <th>erv</th>\n",
       "      <th>group_id</th>\n",
       "      <th>group_size</th>\n",
       "    </tr>\n",
       "  </thead>\n",
       "  <tbody>\n",
       "    <tr>\n",
       "      <th>0</th>\n",
       "      <td>659</td>\n",
       "      <td>49809491645958528</td>\n",
       "      <td>TYC 1253-388-1</td>\n",
       "      <td>59.457281</td>\n",
       "      <td>18.562195</td>\n",
       "      <td>7.7395</td>\n",
       "      <td>129.949</td>\n",
       "      <td>11.160</td>\n",
       "      <td>9.984</td>\n",
       "      <td>NaN</td>\n",
       "      <td>NaN</td>\n",
       "      <td>NaN</td>\n",
       "      <td>0</td>\n",
       "      <td>151</td>\n",
       "    </tr>\n",
       "    <tr>\n",
       "      <th>1</th>\n",
       "      <td>1559</td>\n",
       "      <td>66939848447027584</td>\n",
       "      <td>TYC 1804-1924-1</td>\n",
       "      <td>57.070387</td>\n",
       "      <td>25.214932</td>\n",
       "      <td>7.6087</td>\n",
       "      <td>132.557</td>\n",
       "      <td>9.066</td>\n",
       "      <td>8.137</td>\n",
       "      <td>20120109_0346p23_140</td>\n",
       "      <td>2.95</td>\n",
       "      <td>1.6</td>\n",
       "      <td>0</td>\n",
       "      <td>151</td>\n",
       "    </tr>\n",
       "    <tr>\n",
       "      <th>2</th>\n",
       "      <td>1904</td>\n",
       "      <td>50905051903831680</td>\n",
       "      <td>HIP 18091</td>\n",
       "      <td>58.003444</td>\n",
       "      <td>19.596690</td>\n",
       "      <td>6.7611</td>\n",
       "      <td>148.752</td>\n",
       "      <td>10.265</td>\n",
       "      <td>9.267</td>\n",
       "      <td>NaN</td>\n",
       "      <td>NaN</td>\n",
       "      <td>NaN</td>\n",
       "      <td>0</td>\n",
       "      <td>151</td>\n",
       "    </tr>\n",
       "    <tr>\n",
       "      <th>3</th>\n",
       "      <td>1929</td>\n",
       "      <td>51452746133437696</td>\n",
       "      <td>HIP 18544</td>\n",
       "      <td>59.507154</td>\n",
       "      <td>20.676596</td>\n",
       "      <td>7.6989</td>\n",
       "      <td>131.839</td>\n",
       "      <td>9.249</td>\n",
       "      <td>8.436</td>\n",
       "      <td>NaN</td>\n",
       "      <td>NaN</td>\n",
       "      <td>NaN</td>\n",
       "      <td>0</td>\n",
       "      <td>151</td>\n",
       "    </tr>\n",
       "    <tr>\n",
       "      <th>4</th>\n",
       "      <td>1944</td>\n",
       "      <td>51619115986889472</td>\n",
       "      <td>TYC 1261-1630-1</td>\n",
       "      <td>58.370320</td>\n",
       "      <td>20.907178</td>\n",
       "      <td>7.4847</td>\n",
       "      <td>134.194</td>\n",
       "      <td>11.553</td>\n",
       "      <td>10.096</td>\n",
       "      <td>NaN</td>\n",
       "      <td>NaN</td>\n",
       "      <td>NaN</td>\n",
       "      <td>0</td>\n",
       "      <td>151</td>\n",
       "    </tr>\n",
       "  </tbody>\n",
       "</table>\n",
       "</div>"
      ],
      "text/plain": [
       "   row_id     tgas_source_id             name         ra        dec  parallax  \\\n",
       "0     659  49809491645958528   TYC 1253-388-1  59.457281  18.562195    7.7395   \n",
       "1    1559  66939848447027584  TYC 1804-1924-1  57.070387  25.214932    7.6087   \n",
       "2    1904  50905051903831680        HIP 18091  58.003444  19.596690    6.7611   \n",
       "3    1929  51452746133437696        HIP 18544  59.507154  20.676596    7.6989   \n",
       "4    1944  51619115986889472  TYC 1261-1630-1  58.370320  20.907178    7.4847   \n",
       "\n",
       "   distance       G       J           rave_obs_id    rv  erv  group_id  \\\n",
       "0   129.949  11.160   9.984                   NaN   NaN  NaN         0   \n",
       "1   132.557   9.066   8.137  20120109_0346p23_140  2.95  1.6         0   \n",
       "2   148.752  10.265   9.267                   NaN   NaN  NaN         0   \n",
       "3   131.839   9.249   8.436                   NaN   NaN  NaN         0   \n",
       "4   134.194  11.553  10.096                   NaN   NaN  NaN         0   \n",
       "\n",
       "   group_size  \n",
       "0         151  \n",
       "1         151  \n",
       "2         151  \n",
       "3         151  \n",
       "4         151  "
      ]
     },
     "execution_count": 5,
     "metadata": {},
     "output_type": "execute_result"
    }
   ],
   "source": [
    "import pandas as pd\n",
    "import matplotlib.pyplot as plt\n",
    "import numpy as np\n",
    "\n",
    "df = pd.read_csv(\"oh_table.csv\")\n",
    "\n",
    "df.head()"
   ]
  },
  {
   "cell_type": "markdown",
   "metadata": {},
   "source": [
    "#### Make a variable for distance"
   ]
  },
  {
   "cell_type": "code",
   "execution_count": 6,
   "metadata": {},
   "outputs": [
    {
     "name": "stdout",
     "output_type": "stream",
     "text": [
      "0      129.949\n",
      "1      132.557\n",
      "2      148.752\n",
      "3      131.839\n",
      "4      134.194\n",
      "5      122.925\n",
      "6      138.427\n",
      "7      135.054\n",
      "8      126.397\n",
      "9      139.501\n",
      "10     128.602\n",
      "11     130.282\n",
      "12     136.910\n",
      "13     131.034\n",
      "14     139.274\n",
      "15     118.254\n",
      "16     135.672\n",
      "17     132.078\n",
      "18     131.330\n",
      "19     143.055\n",
      "20     140.397\n",
      "21     127.990\n",
      "22     135.377\n",
      "23     137.066\n",
      "24     144.315\n",
      "25     141.358\n",
      "26     129.119\n",
      "27     137.581\n",
      "28     130.996\n",
      "29     134.472\n",
      "        ...   \n",
      "121    136.160\n",
      "122    130.193\n",
      "123    135.846\n",
      "124    135.306\n",
      "125    146.306\n",
      "126    150.472\n",
      "127    140.544\n",
      "128    136.532\n",
      "129    131.921\n",
      "130    133.899\n",
      "131    131.261\n",
      "132    151.388\n",
      "133    129.725\n",
      "134    134.080\n",
      "135    135.455\n",
      "136    145.714\n",
      "137    127.468\n",
      "138    124.362\n",
      "139    141.029\n",
      "140    120.192\n",
      "141    136.107\n",
      "142    133.378\n",
      "143    129.429\n",
      "144    139.284\n",
      "145    127.036\n",
      "146    129.061\n",
      "147    134.723\n",
      "148    128.593\n",
      "149    134.867\n",
      "150    121.638\n",
      "Name: distance, Length: 151, dtype: float64\n"
     ]
    }
   ],
   "source": [
    "distance = df[\"distance\"].loc[df[\"group_id\"] == 0] # ) is the group ID for the Pleiades cluster\n",
    "\n",
    "print(distance)"
   ]
  },
  {
   "cell_type": "markdown",
   "metadata": {},
   "source": [
    "#### Make a variable for G and J\n",
    "\n",
    "Group ID = 0"
   ]
  },
  {
   "cell_type": "code",
   "execution_count": 7,
   "metadata": {},
   "outputs": [
    {
     "name": "stdout",
     "output_type": "stream",
     "text": [
      "0      11.160\n",
      "1       9.066\n",
      "2      10.265\n",
      "3       9.249\n",
      "4      11.553\n",
      "5      10.843\n",
      "6      11.180\n",
      "7      10.713\n",
      "8       9.232\n",
      "9       9.491\n",
      "10      8.745\n",
      "11      7.567\n",
      "12      9.264\n",
      "13      8.340\n",
      "14     11.261\n",
      "15      8.280\n",
      "16      6.073\n",
      "17      7.028\n",
      "18      7.713\n",
      "19     11.102\n",
      "20      7.291\n",
      "21      9.664\n",
      "22     10.171\n",
      "23     10.157\n",
      "24      9.322\n",
      "25     10.511\n",
      "26      7.802\n",
      "27      9.265\n",
      "28      8.858\n",
      "29     10.291\n",
      "        ...  \n",
      "121    11.358\n",
      "122    10.545\n",
      "123    11.850\n",
      "124    11.110\n",
      "125    11.744\n",
      "126     9.938\n",
      "127    11.347\n",
      "128     8.259\n",
      "129     9.663\n",
      "130    11.423\n",
      "131     9.899\n",
      "132    10.897\n",
      "133    12.012\n",
      "134    11.183\n",
      "135    10.798\n",
      "136     8.536\n",
      "137    10.942\n",
      "138     9.168\n",
      "139     9.468\n",
      "140     7.405\n",
      "141    11.136\n",
      "142     8.606\n",
      "143     7.731\n",
      "144    11.220\n",
      "145     8.315\n",
      "146    10.529\n",
      "147     9.884\n",
      "148     8.013\n",
      "149    10.342\n",
      "150    11.088\n",
      "Name: G, Length: 151, dtype: float64\n"
     ]
    }
   ],
   "source": [
    "G = df[\"G\"].loc[df[\"group_id\"] == 0]\n",
    "\n",
    "print(G)"
   ]
  },
  {
   "cell_type": "code",
   "execution_count": 8,
   "metadata": {},
   "outputs": [
    {
     "name": "stdout",
     "output_type": "stream",
     "text": [
      "0       9.984\n",
      "1       8.137\n",
      "2       9.267\n",
      "3       8.436\n",
      "4      10.096\n",
      "5       9.624\n",
      "6       9.938\n",
      "7       9.601\n",
      "8       8.378\n",
      "9       8.519\n",
      "10      8.071\n",
      "11      7.072\n",
      "12      8.404\n",
      "13      7.753\n",
      "14      9.995\n",
      "15      7.557\n",
      "16      5.968\n",
      "17      6.854\n",
      "18      7.312\n",
      "19      9.863\n",
      "20      7.060\n",
      "21      8.797\n",
      "22      9.086\n",
      "23      9.117\n",
      "24      8.520\n",
      "25      9.477\n",
      "26      7.436\n",
      "27      8.479\n",
      "28      8.184\n",
      "29      9.307\n",
      "        ...  \n",
      "121     9.958\n",
      "122     9.326\n",
      "123    10.254\n",
      "124     9.752\n",
      "125    10.391\n",
      "126     9.011\n",
      "127    10.031\n",
      "128     7.804\n",
      "129     8.720\n",
      "130     9.968\n",
      "131     8.959\n",
      "132     9.801\n",
      "133    10.589\n",
      "134     9.947\n",
      "135     9.705\n",
      "136     8.107\n",
      "137     9.758\n",
      "138     8.188\n",
      "139     8.638\n",
      "140     7.191\n",
      "141     9.897\n",
      "142     7.943\n",
      "143     7.389\n",
      "144     9.903\n",
      "145     7.741\n",
      "146     9.501\n",
      "147     9.018\n",
      "148     7.241\n",
      "149     9.366\n",
      "150     9.836\n",
      "Name: J, Length: 151, dtype: float64\n"
     ]
    }
   ],
   "source": [
    "J = df[\"J\"].loc[df[\"group_id\"] == 0]\n",
    "\n",
    "print(J)"
   ]
  },
  {
   "cell_type": "markdown",
   "metadata": {},
   "source": [
    "#### Make an absolute magnitude variable"
   ]
  },
  {
   "cell_type": "markdown",
   "metadata": {},
   "source": [
    "Absolute magnitude = G - 5 * log(distance) + 5\n",
    "\n",
    "You will need np.log10()"
   ]
  },
  {
   "cell_type": "code",
   "execution_count": 9,
   "metadata": {},
   "outputs": [
    {
     "name": "stdout",
     "output_type": "stream",
     "text": [
      "0      5.591135\n",
      "1      3.453987\n",
      "2      4.402686\n",
      "3      3.648780\n",
      "4      5.914335\n",
      "5      5.394799\n",
      "6      5.473896\n",
      "7      5.060463\n",
      "8      3.723316\n",
      "9      3.768113\n",
      "10     3.198761\n",
      "11     1.992578\n",
      "12     3.581824\n",
      "13     2.753080\n",
      "14     5.541650\n",
      "15     2.915921\n",
      "16     0.410549\n",
      "17     1.423848\n",
      "18     2.121180\n",
      "19     5.324485\n",
      "20     1.554211\n",
      "21     4.128120\n",
      "22     4.513276\n",
      "23     4.472351\n",
      "24     3.525443\n",
      "25     4.759398\n",
      "26     2.247049\n",
      "27     3.572208\n",
      "28     3.271710\n",
      "29     4.647841\n",
      "         ...   \n",
      "121    5.687752\n",
      "122    4.972062\n",
      "123    6.184766\n",
      "124    5.453415\n",
      "125    5.917689\n",
      "126    4.050722\n",
      "127    5.607938\n",
      "128    2.582828\n",
      "129    4.061430\n",
      "130    5.789113\n",
      "131    4.308321\n",
      "132    4.996543\n",
      "133    6.446882\n",
      "134    5.546180\n",
      "135    5.139025\n",
      "136    2.718494\n",
      "137    5.414994\n",
      "138    3.694562\n",
      "139    3.721458\n",
      "140    2.005622\n",
      "141    5.466598\n",
      "142    2.980579\n",
      "143    2.170842\n",
      "144    5.500494\n",
      "145    2.795366\n",
      "146    4.975025\n",
      "147    4.236791\n",
      "148    2.466913\n",
      "149    4.692472\n",
      "150    5.662654\n",
      "Length: 151, dtype: float64\n"
     ]
    }
   ],
   "source": [
    "mag = G - 5*np.log10(distance) + 5\n",
    "\n",
    "print(mag)"
   ]
  },
  {
   "cell_type": "markdown",
   "metadata": {},
   "source": [
    "#### Assign colors to magnitude of the stars"
   ]
  },
  {
   "cell_type": "code",
   "execution_count": 22,
   "metadata": {},
   "outputs": [
    {
     "name": "stdout",
     "output_type": "stream",
     "text": [
      "0      1.176\n",
      "1      0.929\n",
      "2      0.998\n",
      "3      0.813\n",
      "4      1.457\n",
      "5      1.219\n",
      "6      1.242\n",
      "7      1.112\n",
      "8      0.854\n",
      "9      0.972\n",
      "10     0.674\n",
      "11     0.495\n",
      "12     0.860\n",
      "13     0.587\n",
      "14     1.266\n",
      "15     0.723\n",
      "16     0.105\n",
      "17     0.174\n",
      "18     0.401\n",
      "19     1.239\n",
      "20     0.231\n",
      "21     0.867\n",
      "22     1.085\n",
      "23     1.040\n",
      "24     0.802\n",
      "25     1.034\n",
      "26     0.366\n",
      "27     0.786\n",
      "28     0.674\n",
      "29     0.984\n",
      "       ...  \n",
      "121    1.400\n",
      "122    1.219\n",
      "123    1.596\n",
      "124    1.358\n",
      "125    1.353\n",
      "126    0.927\n",
      "127    1.316\n",
      "128    0.455\n",
      "129    0.943\n",
      "130    1.455\n",
      "131    0.940\n",
      "132    1.096\n",
      "133    1.423\n",
      "134    1.236\n",
      "135    1.093\n",
      "136    0.429\n",
      "137    1.184\n",
      "138    0.980\n",
      "139    0.830\n",
      "140    0.214\n",
      "141    1.239\n",
      "142    0.663\n",
      "143    0.342\n",
      "144    1.317\n",
      "145    0.574\n",
      "146    1.028\n",
      "147    0.866\n",
      "148    0.772\n",
      "149    0.976\n",
      "150    1.252\n",
      "Length: 151, dtype: float64\n"
     ]
    }
   ],
   "source": [
    "color = G - J\n",
    "\n",
    "print(color)"
   ]
  },
  {
   "cell_type": "markdown",
   "metadata": {},
   "source": [
    "Create variables for the sun"
   ]
  },
  {
   "cell_type": "code",
   "execution_count": 21,
   "metadata": {},
   "outputs": [
    {
     "name": "stdout",
     "output_type": "stream",
     "text": [
      "1.48\n"
     ]
    }
   ],
   "source": [
    "SunJ = 3.64\n",
    "SunG = 5.12\n",
    "\n",
    "sunmag = SunG\n",
    "suncolor = SunG - SunJ\n",
    "\n",
    "print(suncolor)"
   ]
  },
  {
   "cell_type": "markdown",
   "metadata": {},
   "source": [
    "#### Create Graph"
   ]
  },
  {
   "cell_type": "code",
   "execution_count": 56,
   "metadata": {},
   "outputs": [
    {
     "data": {
      "image/png": "[encoded data removed]",
      "text/plain": [
       "<Figure size 432x288 with 1 Axes>"
      ]
     },
     "metadata": {},
     "output_type": "display_data"
    }
   ],
   "source": [
    "cm = plt.cm.get_cmap(\"jet\")\n",
    "plt.scatter(mag, color, c=color, s=35, cmap=cm) \n",
    "plt.scatter(sunmag, suncolor, c=\"black\", s = 50, marker = \"*\") #Black star represents the sun in relation to the Pleiades star cluster\n",
    "plt.xlabel('Color (G-J)')\n",
    "plt.ylabel('Absolute Magnitude (G)')\n",
    "plt.title('Distribution of Stars in Pleiades Cluster and the Sun')\n",
    "plt.gca().invert_yaxis() \n",
    "plt.savefig(\"Distribution of Stars.png\", dpi = 1000)\n",
    "plt.show() "
   ]
  },
  {
   "cell_type": "code",
   "execution_count": null,
   "metadata": {},
   "outputs": [],
   "source": []
  }
 ],
 "metadata": {
  "kernelspec": {
   "display_name": "Python 3",
   "language": "python",
   "name": "python3"
  },
  "language_info": {
   "codemirror_mode": {
    "name": "ipython",
    "version": 3
   },
   "file_extension": ".py",
   "mimetype": "text/x-python",
   "name": "python",
   "nbconvert_exporter": "python",
   "pygments_lexer": "ipython3",
   "version": "3.6.5"
  }
 },
 "nbformat": 4,
 "nbformat_minor": 2
}
