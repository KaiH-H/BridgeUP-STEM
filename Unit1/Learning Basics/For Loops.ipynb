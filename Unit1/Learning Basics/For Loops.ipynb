{
 "cells": [
  {
   "cell_type": "markdown",
   "metadata": {},
   "source": [
    "# \"For loops\"\n",
    "\n",
    "This notebook introduces you to \"for loops\" and shows you how you can use them to make coding easier!\n",
    "\n",
    "If it's your cell, you should type and your partner should advise you. Then your partner can type the code in her own Notebook."
   ]
  },
  {
   "cell_type": "markdown",
   "metadata": {},
   "source": [
    "### Use this cell to follow along in the live code session:"
   ]
  },
  {
   "cell_type": "code",
   "execution_count": 1,
   "metadata": {},
   "outputs": [
    {
     "name": "stdout",
     "output_type": "stream",
     "text": [
      "7\n",
      "10\n",
      "6\n",
      "15\n"
     ]
    }
   ],
   "source": [
    "deck = [2, 5, 1, 10, 10, 7, 3, 8, 4, 10]\n",
    "\n",
    "print(deck[0] + 5)\n",
    "print(deck[1] + 5)\n",
    "print(deck[2] + 5)\n",
    "print(deck[3] + 5)"
   ]
  },
  {
   "cell_type": "code",
   "execution_count": 2,
   "metadata": {},
   "outputs": [
    {
     "name": "stdout",
     "output_type": "stream",
     "text": [
      "7\n",
      "10\n",
      "6\n",
      "15\n",
      "15\n",
      "12\n",
      "8\n",
      "13\n",
      "9\n",
      "15\n"
     ]
    }
   ],
   "source": [
    "for i in deck:\n",
    "    print(i + 5)"
   ]
  },
  {
   "cell_type": "code",
   "execution_count": 3,
   "metadata": {},
   "outputs": [
    {
     "name": "stdout",
     "output_type": "stream",
     "text": [
      "hello\n",
      "0\n",
      "hello\n",
      "3\n",
      "hello\n",
      "-1\n",
      "hello\n",
      "13\n",
      "hello\n",
      "13\n",
      "hello\n",
      "10\n",
      "hello\n",
      "1\n",
      "hello\n",
      "11\n",
      "hello\n",
      "2\n",
      "hello\n",
      "13\n"
     ]
    }
   ],
   "source": [
    "for i in deck:\n",
    "    print(\"hello\")\n",
    "    if i > 5:\n",
    "        print(i+3)\n",
    "    else:\n",
    "        print(i-2)"
   ]
  },
  {
   "cell_type": "code",
   "execution_count": 4,
   "metadata": {},
   "outputs": [
    {
     "name": "stdout",
     "output_type": "stream",
     "text": [
      "hello\n",
      "hello\n",
      "hello\n",
      "hello\n",
      "hello\n"
     ]
    }
   ],
   "source": [
    "for i in range(5): # does it that many times\n",
    "    print(\"hello\")"
   ]
  },
  {
   "cell_type": "code",
   "execution_count": 5,
   "metadata": {},
   "outputs": [
    {
     "name": "stdout",
     "output_type": "stream",
     "text": [
      "0 is a number less than 5\n",
      "1 is a number less than 5\n",
      "2 is a number less than 5\n",
      "3 is a number less than 5\n",
      "4 is a number less than 5\n"
     ]
    }
   ],
   "source": [
    "for i in range (5): # This changes the value of i and starts counting at 5\n",
    "    print(i, \"is a number less than 5\")"
   ]
  },
  {
   "cell_type": "code",
   "execution_count": 6,
   "metadata": {},
   "outputs": [
    {
     "name": "stdout",
     "output_type": "stream",
     "text": [
      "[0, 1, 2, 3, 4, 5, 6, 7, 8, 9]\n"
     ]
    }
   ],
   "source": [
    "my_list = []\n",
    "\n",
    "for i in range(10):\n",
    "    my_list.append(i)\n",
    "print(my_list)"
   ]
  },
  {
   "cell_type": "code",
   "execution_count": 14,
   "metadata": {},
   "outputs": [
    {
     "name": "stdout",
     "output_type": "stream",
     "text": [
      "0\n",
      "1\n",
      "2\n",
      "3\n",
      "4\n",
      "5\n",
      "6\n"
     ]
    }
   ],
   "source": [
    "for i in range(7):\n",
    "    print(i)"
   ]
  },
  {
   "cell_type": "code",
   "execution_count": 15,
   "metadata": {},
   "outputs": [
    {
     "name": "stdout",
     "output_type": "stream",
     "text": [
      "cat\n",
      "dog\n",
      "fish\n"
     ]
    }
   ],
   "source": [
    "example = [\"cat\", \"dog\", \"fish\"]\n",
    "\n",
    "for i in example:\n",
    "    print(i)"
   ]
  },
  {
   "cell_type": "markdown",
   "metadata": {},
   "source": [
    "### Working with ranges\n",
    "Create a \"for loop\" that prints out the numbers 1 through 10 using the range() function:"
   ]
  },
  {
   "cell_type": "code",
   "execution_count": 7,
   "metadata": {},
   "outputs": [
    {
     "name": "stdout",
     "output_type": "stream",
     "text": [
      "1\n",
      "2\n",
      "3\n",
      "4\n",
      "5\n",
      "6\n",
      "7\n",
      "8\n",
      "9\n",
      "10\n"
     ]
    }
   ],
   "source": [
    "for i in range(11):\n",
    "    if i > 0:\n",
    "        print(i)"
   ]
  },
  {
   "cell_type": "markdown",
   "metadata": {},
   "source": [
    "Create an empty list and then use a \"for loop\" to append the numbers 0 through 100 to it. Then print out the list:"
   ]
  },
  {
   "cell_type": "code",
   "execution_count": 8,
   "metadata": {},
   "outputs": [
    {
     "name": "stdout",
     "output_type": "stream",
     "text": [
      "[0, 1, 2, 3, 4, 5, 6, 7, 8, 9, 10, 11, 12, 13, 14, 15, 16, 17, 18, 19, 20, 21, 22, 23, 24, 25, 26, 27, 28, 29, 30, 31, 32, 33, 34, 35, 36, 37, 38, 39, 40, 41, 42, 43, 44, 45, 46, 47, 48, 49, 50, 51, 52, 53, 54, 55, 56, 57, 58, 59, 60, 61, 62, 63, 64, 65, 66, 67, 68, 69, 70, 71, 72, 73, 74, 75, 76, 77, 78, 79, 80, 81, 82, 83, 84, 85, 86, 87, 88, 89, 90, 91, 92, 93, 94, 95, 96, 97, 98, 99, 100]\n"
     ]
    }
   ],
   "source": [
    "my_list = []\n",
    "for i in range(101):\n",
    "    my_list.append(i)\n",
    "print(my_list)"
   ]
  },
  {
   "cell_type": "markdown",
   "metadata": {},
   "source": [
    "### Looping through lists\n",
    "Create a \"for loop\" that prints out \"X is one kind of plate boundary\" for each boundary type in the list below:"
   ]
  },
  {
   "cell_type": "code",
   "execution_count": 9,
   "metadata": {},
   "outputs": [
    {
     "name": "stdout",
     "output_type": "stream",
     "text": [
      "divergentis one kind of plate boundary\n",
      "convergentis one kind of plate boundary\n",
      "transformis one kind of plate boundary\n"
     ]
    }
   ],
   "source": [
    "boundaries = [\"divergent\", \"convergent\", \"transform\"]\n",
    "\n",
    "for i in boundaries:\n",
    "    print(i + \"is one kind of plate boundary\")"
   ]
  },
  {
   "cell_type": "markdown",
   "metadata": {
    "collapsed": true
   },
   "source": [
    "The list below contains the number of magnitude 6+ earthquakes for each of the last 10 years. \n",
    "\n",
    "Create a \"for loop\" that prints out the difference between the number of earthquakes each year and the highest number of earthquakes in any year (For example, if the max was 300 and one year there were 50, you should print out 250):"
   ]
  },
  {
   "cell_type": "code",
   "execution_count": 10,
   "metadata": {},
   "outputs": [
    {
     "name": "stdout",
     "output_type": "stream",
     "text": [
      "98\n",
      "76\n",
      "80\n",
      "64\n",
      "79\n",
      "75\n",
      "0\n",
      "53\n",
      "60\n",
      "36\n"
     ]
    }
   ],
   "source": [
    "# Hint: you will need to use the max() function\n",
    "\n",
    "quakes = [106, 128, 124, 140, 125, 129, 204, 151, 144, 168]\n",
    "\n",
    "for i in quakes:\n",
    "    print(max(quakes) - i)"
   ]
  },
  {
   "cell_type": "markdown",
   "metadata": {},
   "source": [
    "### Adding conditionals to your loops\n",
    "Create a \"for loop\" that loops through the list of earthquake depths in km below and prints out \"Shallow earthquake occured!\" if the depth is less than 5 and \"Deep earthquake occured!\" if the depth is greater than 35:"
   ]
  },
  {
   "cell_type": "code",
   "execution_count": 11,
   "metadata": {},
   "outputs": [
    {
     "name": "stdout",
     "output_type": "stream",
     "text": [
      "Shallow earthquake occured!\n",
      "Deep earthquake occured!\n",
      "Deep earthquake occured!\n",
      "Deep earthquake occured!\n",
      "Deep earthquake occured!\n"
     ]
    }
   ],
   "source": [
    "quake_depths = [10, 1.9, 10, 35.2, 6.4, 15.2, 12.1, 35.8, 10, 171.5, 40, 35]\n",
    "\n",
    "for i in quake_depths:\n",
    "    if i < 5:\n",
    "        print(\"Shallow earthquake occured!\")\n",
    "    elif i > 35:\n",
    "        print(\"Deep earthquake occured!\")"
   ]
  },
  {
   "cell_type": "markdown",
   "metadata": {},
   "source": [
    "### Bonus Challenge\n",
    "Copy and paste a list from a previous Jupyter Notebook and create your own \"for loop\" with a conditional to analyze the values:"
   ]
  },
  {
   "cell_type": "code",
   "execution_count": 12,
   "metadata": {},
   "outputs": [
    {
     "name": "stdout",
     "output_type": "stream",
     "text": [
      "With a P wave, it took 35seconds to reach the seismometer.\n",
      "With a P wave, it took 25seconds to reach the seismometer.\n",
      "With a P wave, it took 30seconds to reach the seismometer.\n",
      "With a P wave, it took 7seconds to reach the seismometer.\n",
      "With a P wave, it took 19seconds to reach the seismometer.\n",
      "With a P wave, it took 22seconds to reach the seismometer.\n",
      "With a P wave, it took 20seconds to reach the seismometer.\n",
      "With a P wave, it took 2seconds to reach the seismometer.\n",
      "With a P wave, it took 7seconds to reach the seismometer.\n"
     ]
    }
   ],
   "source": [
    "p_times = [35, 25, 30, 7, 19, 22, 20, 2, 7]\n",
    "s_times = [68, 43, 57, 12, 32, 38, 34, 4, 9]\n",
    "\n",
    "for i in p_times:\n",
    "    print(\"With a P wave, it took \" + str(i) + \"seconds to reach the seismometer.\")"
   ]
  },
  {
   "cell_type": "code",
   "execution_count": 13,
   "metadata": {},
   "outputs": [
    {
     "name": "stdout",
     "output_type": "stream",
     "text": [
      "With a S wave, it took 68 seconds to reach the seismometer.\n",
      "With a S wave, it took 43 seconds to reach the seismometer.\n",
      "With a S wave, it took 57 seconds to reach the seismometer.\n",
      "With a S wave, it took 12 seconds to reach the seismometer.\n",
      "With a S wave, it took 32 seconds to reach the seismometer.\n",
      "With a S wave, it took 38 seconds to reach the seismometer.\n",
      "With a S wave, it took 34 seconds to reach the seismometer.\n",
      "With a S wave, it took 4 seconds to reach the seismometer.\n",
      "With a S wave, it took 9 seconds to reach the seismometer.\n"
     ]
    }
   ],
   "source": [
    "for i in s_times:\n",
    "    print(\"With a S wave, it took \" + str(i) + \" seconds to reach the seismometer.\")"
   ]
  },
  {
   "cell_type": "code",
   "execution_count": null,
   "metadata": {},
   "outputs": [],
   "source": []
  }
 ],
 "metadata": {
  "kernelspec": {
   "display_name": "Python 3",
   "language": "python",
   "name": "python3"
  },
  "language_info": {
   "codemirror_mode": {
    "name": "ipython",
    "version": 3
   },
   "file_extension": ".py",
   "mimetype": "text/x-python",
   "name": "python",
   "nbconvert_exporter": "python",
   "pygments_lexer": "ipython3",
   "version": "3.6.5"
  }
 },
 "nbformat": 4,
 "nbformat_minor": 2
}
