{
 "cells": [
  {
   "cell_type": "markdown",
   "metadata": {},
   "source": [
    "# Welcome to Jupyter Notebooks!\n",
    "\n",
    "This is the coding environment where you will write and run Python scripts. \n",
    "\n",
    "**To run the code in a Jupyter Notebook cell, click inside the cell and press \"shift\" and \"return\" on your keyboard at the same time.**"
   ]
  },
  {
   "cell_type": "markdown",
   "metadata": {},
   "source": [
    "This is an empty cell:"
   ]
  },
  {
   "cell_type": "code",
   "execution_count": null,
   "metadata": {},
   "outputs": [],
   "source": [
    "Reismarli = 5 #If you want to put multiple words in your variable, either use capitals or underscores\n",
    "Nyla = \"5\"\n",
    "Connie = 1.0\n",
    "Samantha = 1\n",
    "Jennifier = 6.5\n",
    "Tigist = \"Hello \"\n",
    "Aleenah = \"world!\"\n",
    "Georgia = \"6.5\"\n",
    "Kiara = 2.5\n",
    "Lynette = 4\n",
    "\n",
    "print(Reismarli + Samantha) #add: +; subtract: -; multiply: *; divide: /\n",
    "print(Lynette / Samantha) #if you divide any 2 integers, it becomes a float\n",
    "print(Tigist + Aleenah) #you can add any 2 strings and then they will become those two strings combined\n",
    "#print(Tigist + Kiara) = Error \n",
    "    #This is an error because you cannot add a string and an integer/float\n",
    "print(Tigist + Georgia)\n"
   ]
  },
  {
   "cell_type": "markdown",
   "metadata": {},
   "source": [
    "This is a (mostly) empty cell. It has a comment in it."
   ]
  },
  {
   "cell_type": "code",
   "execution_count": null,
   "metadata": {},
   "outputs": [],
   "source": [
    "# This is a comment! Python won't try to interpret these words as a command. It's just a note. \n",
    "# Anything you type after a \"#\" is a comment\n",
    "\n"
   ]
  },
  {
   "cell_type": "markdown",
   "metadata": {},
   "source": [
    "Try creating your own cell below by clicking the \"+\" button at the top of the screen (You can remove cells using the scissors button)."
   ]
  },
  {
   "cell_type": "markdown",
   "metadata": {},
   "source": [
    "# Working with Data Types\n",
    "Create a variable below and assign any value to it using \"=\""
   ]
  },
  {
   "cell_type": "code",
   "execution_count": null,
   "metadata": {},
   "outputs": [],
   "source": [
    "variable = 2"
   ]
  },
  {
   "cell_type": "markdown",
   "metadata": {},
   "source": [
    "Print out your variable:"
   ]
  },
  {
   "cell_type": "code",
   "execution_count": null,
   "metadata": {},
   "outputs": [],
   "source": [
    "print(variable)"
   ]
  },
  {
   "cell_type": "markdown",
   "metadata": {},
   "source": [
    "Create two variables that hold integers or floats:"
   ]
  },
  {
   "cell_type": "code",
   "execution_count": null,
   "metadata": {},
   "outputs": [],
   "source": [
    "number1 = 3.6\n",
    "numer2 = 14.78"
   ]
  },
  {
   "cell_type": "markdown",
   "metadata": {},
   "source": [
    "Print out the sum of those two variables:"
   ]
  },
  {
   "cell_type": "code",
   "execution_count": null,
   "metadata": {},
   "outputs": [],
   "source": [
    "print(number1 + number2)"
   ]
  },
  {
   "cell_type": "markdown",
   "metadata": {},
   "source": [
    "Create two variables that hold strings:"
   ]
  },
  {
   "cell_type": "code",
   "execution_count": null,
   "metadata": {},
   "outputs": [],
   "source": [
    "w1 = \"hello my name\"\n",
    "w2 = \" is kai\""
   ]
  },
  {
   "cell_type": "markdown",
   "metadata": {},
   "source": [
    "Print out the sum of those two variables:"
   ]
  },
  {
   "cell_type": "code",
   "execution_count": null,
   "metadata": {},
   "outputs": [],
   "source": [
    "print(w1 + w2)"
   ]
  },
  {
   "cell_type": "markdown",
   "metadata": {},
   "source": [
    "Create two or more variables that hold any type of data. Assign the sum of those two variables to a new variable. Print out the value of the new variable."
   ]
  },
  {
   "cell_type": "code",
   "execution_count": null,
   "metadata": {},
   "outputs": [],
   "source": [
    "word = \"apple\"\n",
    "sentence = \"les pommes\"\n",
    "integer = 5\n",
    "decimal = 5.16"
   ]
  },
  {
   "cell_type": "markdown",
   "metadata": {},
   "source": [
    "Let's try using the type() function! You can use the type() function like this:"
   ]
  },
  {
   "cell_type": "code",
   "execution_count": 2,
   "metadata": {},
   "outputs": [
    {
     "name": "stdout",
     "output_type": "stream",
     "text": [
      "<class 'str'>\n"
     ]
    }
   ],
   "source": []
  },
  {
   "cell_type": "markdown",
   "metadata": {},
   "source": [
    "Now you try! Print out the data type of some of the variables you created above:"
   ]
  },
  {
   "cell_type": "code",
   "execution_count": 4,
   "metadata": {},
   "outputs": [
    {
     "name": "stdout",
     "output_type": "stream",
     "text": [
      "apples = les pommes\n",
      "1.032\n"
     ]
    }
   ],
   "source": [
    "# Hint: You may want to copy and paste your lines of code and make small edits to save time and energy\n",
    "\n",
    "word = \"apples \"\n",
    "sentence = \"= les pommes\"\n",
    "integer = 5\n",
    "decimal = 5.16\n",
    "\n",
    "print(word + sentence)\n",
    "print(decimal / integer)\n"
   ]
  },
  {
   "cell_type": "markdown",
   "metadata": {},
   "source": [
    "# Coding Challenges!"
   ]
  },
  {
   "cell_type": "markdown",
   "metadata": {},
   "source": [
    "## Challenge 1: Hello World\n",
    "Write code that prints out \"Hello World!\". Can you do this using a variable?"
   ]
  },
  {
   "cell_type": "code",
   "execution_count": 5,
   "metadata": {},
   "outputs": [
    {
     "name": "stdout",
     "output_type": "stream",
     "text": [
      "Hello World!\n"
     ]
    }
   ],
   "source": [
    "hw = \"Hello World!\"\n",
    "print(hw)"
   ]
  },
  {
   "cell_type": "markdown",
   "metadata": {},
   "source": [
    "## Challenge 2: Reassigning Variables\n",
    "Create a variable, assign it a value, and print it out. Then **without changing any old lines of code, and only adding new lines,** assign that variable to a new value. Print out your variable again."
   ]
  },
  {
   "cell_type": "code",
   "execution_count": null,
   "metadata": {},
   "outputs": [],
   "source": []
  },
  {
   "cell_type": "markdown",
   "metadata": {},
   "source": [
    "## Challenge 3: Doing Math with Python\n",
    "Solve the following word problems using variables, the print command, and math operations (+, -, *, /):\n",
    "- Jayda is 14. Diya is 3. Diya has a sister who is 5 years older than her. How much older is Jayda than Diya's sister?\n",
    "\n",
    "\n",
    "- If one hard drive can hold 1250 data files and Erin has 35250 data files, how many hard drives will she need to store all of them?\n",
    "\n",
    "\n",
    "- There are 13 hours between when Toni gets home from school and when she needs to wake up for school the next morning. If Toni chats with her friends for 30 minutes, eats dinner for 30 minutes, practices guitar for .45 hour, works on homework for 3.5 times the amount of time she spent practicing, plays a video game for 1.25 hours, and reads a book for twice as long as she spent playing the video game, how many hours does she sleep?\n",
    "**hint: try using a list and the sum() function**"
   ]
  },
  {
   "cell_type": "code",
   "execution_count": null,
   "metadata": {},
   "outputs": [],
   "source": []
  }
 ],
 "metadata": {
  "kernelspec": {
   "display_name": "Python 3",
   "language": "python",
   "name": "python3"
  },
  "language_info": {
   "codemirror_mode": {
    "name": "ipython",
    "version": 3
   },
   "file_extension": ".py",
   "mimetype": "text/x-python",
   "name": "python",
   "nbconvert_exporter": "python",
   "pygments_lexer": "ipython3",
   "version": "3.6.5"
  }
 },
 "nbformat": 4,
 "nbformat_minor": 2
}
