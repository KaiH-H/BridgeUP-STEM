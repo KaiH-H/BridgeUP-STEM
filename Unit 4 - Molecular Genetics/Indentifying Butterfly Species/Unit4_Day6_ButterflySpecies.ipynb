{
 "cells": [
  {
   "cell_type": "markdown",
   "metadata": {},
   "source": [
    "# Identifying Butterfly Species\n",
    "\n",
    "In this notebook you will get to use your transcription and translation functions to analyze the same gene from four butterflies and find out which pairs are the same species!"
   ]
  },
  {
   "cell_type": "markdown",
   "metadata": {},
   "source": [
    "First, copy and paste your transcription and translation functions here:"
   ]
  },
  {
   "cell_type": "code",
   "execution_count": 1,
   "metadata": {},
   "outputs": [],
   "source": [
    "# Paste your transcription function here\n",
    "\n",
    "def transcribe(DNAseq):\n",
    "    \n",
    "    RNA = \"\"\n",
    "    \n",
    "    for base in DNAseq:\n",
    "        if base == \"A\":\n",
    "            RNA += \"U\"\n",
    "        elif base == \"T\":\n",
    "            RNA += \"A\"\n",
    "        elif base == \"G\":\n",
    "            RNA += \"C\"\n",
    "        elif base == \"C\":\n",
    "            RNA += \"G\"\n",
    "        else:\n",
    "            continue\n",
    "    return RNA"
   ]
  },
  {
   "cell_type": "code",
   "execution_count": 16,
   "metadata": {},
   "outputs": [],
   "source": [
    "# Paste your translation function here\n",
    "\n",
    "def translate(RNAseq):\n",
    "    protein = \"\"\n",
    "    codon = \"\"\n",
    "\n",
    "    codon_dict = {\"UUU\":\"F\",\"UUC\":\"F\",\"UUA\":\"L\",\"UUG\":\"L\", \"CUU\":\"L\",\"CUC\":\"L\", \n",
    "             \"CUA\":\"L\",\"CUG\":\"L\",\"AUU\":\"I\",\"AUC\":\"I\",\"AUA\":\"I\",\"AUG\":\"M\",\n",
    "             \"GUU\":\"V\",\"GUC\":\"V\",\"GUA\":\"V\",\"GUG\":\"V\",\"UCU\":\"S\",\"UCC\":\"S\",\n",
    "             \"UCA\":\"S\",\"UCG\":\"S\",\"CCU\":\"P\",\"CCC\":\"P\",\"CCA\":\"P\",\"CCG\":\"P\",\n",
    "             \"ACU\":\"T\",\"ACC\":\"T\",\"ACA\":\"T\",\"ACG\":\"T\",\"GCU\":\"A\",\"GCC\":\"A\",\n",
    "             \"GCA\":\"A\",\"GCG\":\"A\",\"UAU\":\"Y\",\"UAC\":\"Y\",\"UAA\":\"STOP\",\"UAG\":\"STOP\",\n",
    "             \"UGA\":\"STOP\",\"CAU\":\"H\",\"CAC\":\"H\",\"CAA\":\"Q\",\"CAG\":\"Q\",\"AAU\":\"N\",\n",
    "             \"AAC\":\"N\",\"AAA\":\"K\",\"AAG\":\"K\",\"GAU\":\"D\",\"GAC\":\"D\",\"GAA\":\"E\",\n",
    "             \"GAG\":\"E\",\"UGU\":\"C\",\"UGC\":\"C\",\"UGG\":\"W\",\"CGU\":\"R\",\"CGC\":\"R\",\n",
    "             \"CGA\":\"R\",\"CGG\":\"R\",\"AGU\":\"S\",\"AGC\":\"S\",\"AGA\":\"R\",\"AGG\":\"R\",\n",
    "             \"GGU\":\"G\",\"GGC\":\"G\",\"GGA\":\"G\",\"GGG\":\"G\"}\n",
    "    \n",
    "    for i in RNAseq:\n",
    "        if len(codon) == 3:\n",
    "            protein += codon_dict[codon] \n",
    "            codon = \"\" \n",
    "            codon += i \n",
    "        else:\n",
    "            codon += i \n",
    "    return protein"
   ]
  },
  {
   "cell_type": "markdown",
   "metadata": {},
   "source": [
    "## Pair Coding Time!!! \n",
    "### Step 1: Make sure you know who the typing partner and the guiding partner are.\n",
    "Open the four butterfly DNA files that have been shared on Slack, read them as strings, and assign them to variables:"
   ]
  },
  {
   "cell_type": "code",
   "execution_count": 4,
   "metadata": {},
   "outputs": [],
   "source": [
    "# You will need the open() function and the .read() method\n",
    "A = open(\"Butterfly_A_DNA.txt\").read()\n",
    "B = open(\"Butterfly_B_DNA.txt\").read()\n",
    "C = open(\"Butterfly_C_DNA.txt\").read()\n",
    "D = open(\"Butterfly_D_DNA.txt\").read()"
   ]
  },
  {
   "cell_type": "markdown",
   "metadata": {},
   "source": [
    "Next find the amino acid sequence for each butterfly and store it in a variable."
   ]
  },
  {
   "cell_type": "code",
   "execution_count": 6,
   "metadata": {},
   "outputs": [
    {
     "name": "stdout",
     "output_type": "stream",
     "text": [
      "RFQRSSHAKLQALWLEAHYQEAERLRGRPLGPVDKYRVRKKFPLPRTIWDGEQKTHCFKERTRSLLREWYLQDPYPNPTKKRELAAATGLTPTQVGNWFKNRRQRDRAAAAKNRSAVLGRGFASSSTYDEDSADSEINVDE\n",
      "\n",
      "RFQRSSHAKLQALWLEAHYQEAERLRGRPLGPVDKYRVRKKFPLPRTIWDGEQKTHCFKERTRSLLREWYLQDPYPNPTKKRELAAATGLTPTQVGNWFKNRRQRDRAAAAKNRSAVLGRGFASSSTYDEDSADSEINVDE\n",
      "\n",
      "RFQRSSHAKLQALWLEAHYQEAERLRGRPLGPVDKYRVRKKFPLPRTIWDGEQKTHCFKERTRSLLREWYLQDPYPNPTKKRELAAATGLTPTQVGNWFKNRRQRDRAAAAKNRSAVLGRGFASSSTYDEDSADSEINVDE\n",
      "\n",
      "RFQRSSHAKLQALWLEAHYQEAERLRGRPLGPVDKYRVRKKFPLPRTIWDGEQKTHCFKERTRSLLREWYLQDPYPNPTKKRELAAATGLTPTQVGNWFKNRRQRDRAAAAKNRSAVLGRGFASSSTYDEDSADSEINVDE\n"
     ]
    }
   ],
   "source": [
    "# Hint: You will need to use your functions\n",
    "\n",
    "aRNA = transcribe(A)\n",
    "pA = translate(aRNA)\n",
    "print(pA)\n",
    "\n",
    "print()\n",
    "\n",
    "bRNA = transcribe(B)\n",
    "pB = translate(bRNA)\n",
    "print(pB)\n",
    "\n",
    "print()\n",
    "\n",
    "cRNA = transcribe(C)\n",
    "pC = translate(cRNA)\n",
    "print(pC)\n",
    "\n",
    "print()\n",
    "\n",
    "dRNA = transcribe(D)\n",
    "pD = translate(dRNA)\n",
    "print(pD)"
   ]
  },
  {
   "cell_type": "markdown",
   "metadata": {},
   "source": [
    "### Step 2: Swap typing partner and the guiding partners!\n",
    "How can we find out how many differences there are between each pair of protein sequences? \n",
    "Create a function that compares two sequences and returns the number of differences:"
   ]
  },
  {
   "cell_type": "code",
   "execution_count": 10,
   "metadata": {},
   "outputs": [],
   "source": [
    "# Hint, you will need the enumerate() function. You can use this in \"for loops\" that loop through strings or lists.\n",
    "# Remember, you must specify two variables in your \"for loop\": one for the index counter and one for the character.\n",
    "\n",
    "# example: for c, i in enumerate(my_list):\n",
    "    # print(i + \" is element \" + c)\n",
    "    \n",
    "    \n",
    "#my_list = [0, 1, 3,5, 6, 7]\n",
    "\n",
    "#for c, i in enumerate(my_list):\n",
    "    #print(str(i) + \" is element \" + str(c))\n",
    "\n",
    "\n",
    "    \n",
    "def diff(seq1, seq2):\n",
    "  \n",
    "    diff = 0\n",
    "\n",
    "    for c, i in enumerate(seq1):\n",
    "        if i != seq2[c]:\n",
    "            diff += 1\n",
    "        else:\n",
    "            continue\n",
    "    return diff\n",
    "    "
   ]
  },
  {
   "cell_type": "markdown",
   "metadata": {},
   "source": [
    "### Step 3: Swap typing partner and the guiding partners!"
   ]
  },
  {
   "cell_type": "markdown",
   "metadata": {},
   "source": [
    "Run your function for each pair of butterfly protein sequences:"
   ]
  },
  {
   "cell_type": "code",
   "execution_count": 11,
   "metadata": {},
   "outputs": [
    {
     "name": "stdout",
     "output_type": "stream",
     "text": [
      "0\n",
      "0\n",
      "0\n",
      "0\n",
      "0\n",
      "0\n"
     ]
    }
   ],
   "source": [
    "# Hint: You will need to run the function 6 times\n",
    "\n",
    "print(diff(pA, pB))\n",
    "print(diff(pA, pC))\n",
    "print(diff(pA, pD))\n",
    "print(diff(pB, pC))\n",
    "print(diff(pB, pD))\n",
    "print(diff(pC, pD))"
   ]
  },
  {
   "cell_type": "markdown",
   "metadata": {},
   "source": [
    "If you got 0 differences for all 6, that's correct! We'll have to look elsewhere for the differences in the butterfly genes.\n",
    "\n",
    "### Step 4: Swap typing partner and the guiding partners!\n",
    "\n",
    "Try running your function for the DNA sequences instead of the protein sequences (*Notice that you can use the same function for both kinds of sequences!)*:"
   ]
  },
  {
   "cell_type": "code",
   "execution_count": 15,
   "metadata": {},
   "outputs": [
    {
     "name": "stdout",
     "output_type": "stream",
     "text": [
      "A and B\n",
      "15\n",
      "\n",
      "A and C\n",
      "4\n",
      "\n",
      "A and D\n",
      "20\n",
      "\n",
      "B and C\n",
      "15\n",
      "\n",
      "B and D\n",
      "13\n",
      "\n",
      "C and D\n",
      "20\n"
     ]
    }
   ],
   "source": [
    "print(\"A and B\")\n",
    "print(diff(A, B))\n",
    "print()\n",
    "\n",
    "print(\"A and C\")\n",
    "print(diff(A, C))\n",
    "print()\n",
    "\n",
    "print(\"A and D\")\n",
    "print(diff(A, D))\n",
    "print()\n",
    "\n",
    "print(\"B and C\")\n",
    "print(diff(B, C))\n",
    "print()\n",
    "\n",
    "print(\"B and D\")\n",
    "print(diff(B, D))\n",
    "print()\n",
    "\n",
    "print(\"C and D\")\n",
    "print(diff(C, D))"
   ]
  },
  {
   "cell_type": "markdown",
   "metadata": {},
   "source": [
    "Based on the number of differences, do you have a guess about which two butterflies are the same species?"
   ]
  },
  {
   "cell_type": "markdown",
   "metadata": {},
   "source": [
    "## Exploring SNPs\n",
    "### Step 5: Swap typing partner and the guiding partners!\n",
    "These DNA differences are actually known variations between species. Called \"single nucleotide polymorphisms\" or SNPs, they can be used to identify a particular species. \n",
    "\n",
    "Using the two dictionaries below, create a function that takes a DNA sequence and a basepair position and returns the butterfly species:"
   ]
  },
  {
   "cell_type": "code",
   "execution_count": 17,
   "metadata": {},
   "outputs": [],
   "source": [
    "# melpomene and erato are two Heliconius butterfly species\n",
    "# These dictionaries have the DNA basepair # as the key and the chemical base as the value\n",
    "\n",
    "melpomene = {36:\"A\", 156:\"C\", 177:\"T\", 213:\"C\", 276:\"A\", 291:\"A\", 315:\"A\", 333:\"G\", 405:\"C\"}\n",
    "erato = {36:\"G\", 156:\"T\", 177:\"C\", 213:\"T\", 276:\"C\", 291:\"G\", 315:\"C\", 333:\"A\", 405:\"T\"}\n",
    "\n",
    "# Create your function here:\n",
    "\n",
    "def snp(seq, basepair):\n",
    "    \n",
    "    melpomene = {36:\"A\", 156:\"C\", 177:\"T\", 213:\"C\", 276:\"A\", 291:\"A\", 315:\"A\", 333:\"G\", 405:\"C\"}\n",
    "    erato = {36:\"G\", 156:\"T\", 177:\"C\", 213:\"T\", 276:\"C\", 291:\"G\", 315:\"C\", 333:\"A\", 405:\"T\"}\n",
    "    \n",
    "    if seq[basepair-1] == melpomene[basepair]:\n",
    "        return(\"Melpomene\")\n",
    "    elif seq[basepair-1] == erato[basepair]:\n",
    "        return(\"Erato\")\n",
    "    else:\n",
    "        return(\"Unknown\")"
   ]
  },
  {
   "cell_type": "markdown",
   "metadata": {},
   "source": [
    "Call your function for the following combinations and print out the results:\n",
    "- Butterfly A, bp 36\n",
    "- Butterfly B, bp 177\n",
    "- Butterfly C, bp 291\n",
    "- Butterfly D, bp 405"
   ]
  },
  {
   "cell_type": "code",
   "execution_count": 20,
   "metadata": {},
   "outputs": [
    {
     "name": "stdout",
     "output_type": "stream",
     "text": [
      "Melpomene\n",
      "Erato\n",
      "Melpomene\n",
      "Erato\n"
     ]
    }
   ],
   "source": [
    "print(snp(A, 36))\n",
    "\n",
    "print(snp(B, 177))\n",
    "\n",
    "print(snp(C, 291))\n",
    "\n",
    "print(snp(D, 405))\n"
   ]
  },
  {
   "cell_type": "markdown",
   "metadata": {},
   "source": [
    "## Coding Challenge\n",
    "Why do you think these changes to the DNA sequences don't have any effect on the protein sequence?\n",
    "\n",
    "Write a function that tests your hypothesis:"
   ]
  },
  {
   "cell_type": "code",
   "execution_count": null,
   "metadata": {},
   "outputs": [],
   "source": []
  }
 ],
 "metadata": {
  "kernelspec": {
   "display_name": "Python 3",
   "language": "python",
   "name": "python3"
  },
  "language_info": {
   "codemirror_mode": {
    "name": "ipython",
    "version": 3
   },
   "file_extension": ".py",
   "mimetype": "text/x-python",
   "name": "python",
   "nbconvert_exporter": "python",
   "pygments_lexer": "ipython3",
   "version": "3.7.0"
  }
 },
 "nbformat": 4,
 "nbformat_minor": 2
}
