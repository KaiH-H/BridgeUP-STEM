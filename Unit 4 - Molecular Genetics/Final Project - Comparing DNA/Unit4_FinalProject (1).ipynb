{
 "cells": [
  {
   "cell_type": "markdown",
   "metadata": {},
   "source": [
    "# Final Projects: Calculating evolutionary distance\n",
    "\n",
    "In this notebook you will compare the amino acid sequence of hemoglobin alpha from 3 different species to find out which two are most closely related."
   ]
  },
  {
   "cell_type": "markdown",
   "metadata": {
    "collapsed": true
   },
   "source": [
    "Hypothesis: The lizard and the turtle are the closest related to each other due to their closely related features such as scales and because they look the most alike"
   ]
  },
  {
   "cell_type": "markdown",
   "metadata": {},
   "source": [
    "You'll need to copy and paste the function from last class that finds the number of differences in two sequences:"
   ]
  },
  {
   "cell_type": "code",
   "execution_count": 1,
   "metadata": {},
   "outputs": [],
   "source": [
    "def diff(larger_seq, smaller_seq):\n",
    "    \n",
    "    difference = 0\n",
    "    \n",
    "    for c, i in enumerate(larger_seq):\n",
    "        if i != smaller_seq[c]:\n",
    "            difference += 1\n",
    "        else:\n",
    "            continue\n",
    "            \n",
    "    return difference"
   ]
  },
  {
   "cell_type": "markdown",
   "metadata": {},
   "source": [
    "In order to compare the different amino acid sequences, we need to open the files and read the sequences into new variables:"
   ]
  },
  {
   "cell_type": "code",
   "execution_count": 2,
   "metadata": {},
   "outputs": [],
   "source": [
    "cdna = open(\"2_Chicken_CSNK2B_DNA.txt\").read()\n",
    "tdna = open(\"2_BoxTurtle_CSNK2B_DNA.txt\").read()\n",
    "ldna = open(\"2_GreenAnole_CSNK2B_DNA.txt\").read()"
   ]
  },
  {
   "cell_type": "markdown",
   "metadata": {},
   "source": [
    "Decide as a group whether you want to compare DNA or protein sequences for your species. What are the pros and cons of each?"
   ]
  },
  {
   "cell_type": "code",
   "execution_count": 3,
   "metadata": {},
   "outputs": [],
   "source": [
    "# If you choose to use the transcribe and translate functions, you can copy and paste them here\n",
    "\n",
    "def translate(RNAseq):\n",
    "    protein = \"\"\n",
    "    codon = \"\"\n",
    "\n",
    "    codon_dict = {\"UUU\":\"F\",\"UUC\":\"F\",\"UUA\":\"L\",\"UUG\":\"L\", \"CUU\":\"L\",\"CUC\":\"L\", \n",
    "             \"CUA\":\"L\",\"CUG\":\"L\",\"AUU\":\"I\",\"AUC\":\"I\",\"AUA\":\"I\",\"AUG\":\"M\",\n",
    "             \"GUU\":\"V\",\"GUC\":\"V\",\"GUA\":\"V\",\"GUG\":\"V\",\"UCU\":\"S\",\"UCC\":\"S\",\n",
    "             \"UCA\":\"S\",\"UCG\":\"S\",\"CCU\":\"P\",\"CCC\":\"P\",\"CCA\":\"P\",\"CCG\":\"P\",\n",
    "             \"ACU\":\"T\",\"ACC\":\"T\",\"ACA\":\"T\",\"ACG\":\"T\",\"GCU\":\"A\",\"GCC\":\"A\",\n",
    "             \"GCA\":\"A\",\"GCG\":\"A\",\"UAU\":\"Y\",\"UAC\":\"Y\",\"UAA\":\"STOP\",\"UAG\":\"STOP\",\n",
    "             \"UGA\":\"STOP\",\"CAU\":\"H\",\"CAC\":\"H\",\"CAA\":\"Q\",\"CAG\":\"Q\",\"AAU\":\"N\",\n",
    "             \"AAC\":\"N\",\"AAA\":\"K\",\"AAG\":\"K\",\"GAU\":\"D\",\"GAC\":\"D\",\"GAA\":\"E\",\n",
    "             \"GAG\":\"E\",\"UGU\":\"C\",\"UGC\":\"C\",\"UGG\":\"W\",\"CGU\":\"R\",\"CGC\":\"R\",\n",
    "             \"CGA\":\"R\",\"CGG\":\"R\",\"AGU\":\"S\",\"AGC\":\"S\",\"AGA\":\"R\",\"AGG\":\"R\",\n",
    "             \"GGU\":\"G\",\"GGC\":\"G\",\"GGA\":\"G\",\"GGG\":\"G\"}\n",
    "    \n",
    "    for i in RNAseq:\n",
    "        if len(codon) == 3:\n",
    "            protein += codon_dict[codon] \n",
    "            codon = \"\" \n",
    "            codon += i \n",
    "        else:\n",
    "            codon += i \n",
    "    return protein\n",
    "\n",
    "\n",
    "\n",
    "\n",
    "def transcribe(DNAseq):\n",
    "    \n",
    "    RNA = \"\"\n",
    "    \n",
    "    for base in DNAseq:\n",
    "        if base == \"A\":\n",
    "            RNA += \"U\"\n",
    "        elif base == \"T\":\n",
    "            RNA += \"A\"\n",
    "        elif base == \"G\":\n",
    "            RNA += \"C\"\n",
    "        elif base == \"C\":\n",
    "            RNA += \"G\"\n",
    "        else:\n",
    "            continue\n",
    "    return RNA"
   ]
  },
  {
   "cell_type": "markdown",
   "metadata": {},
   "source": [
    "Now call the number of differences function 3 times to compare all three of your species' sequences."
   ]
  },
  {
   "cell_type": "code",
   "execution_count": 4,
   "metadata": {},
   "outputs": [
    {
     "name": "stdout",
     "output_type": "stream",
     "text": [
      "MSSSEEVSWISWFCGLRGNEFFCEVDEDYIQDKFNLTGLNEQVPHYRQALDMILDLEPDEELEDNPNQSDLIEQAAEMLYGLIHARYILTNRGIAQMLEKYQQGDFGYCPRVYCENQPMLPIGLSDIPGEAMVKLYCPKCMDVYTPKSSRHHHTDGAYFGTGFPHMLFMVHPEYRPKRPANQFVPRLYGFKIHPMAYQLQLQAASNFKSPVKTIRSTOPWGDLWGGLWGLGWGGLWGRGGWGDFGVNSCRFGSVESTOPKKEPRG\n",
      "\n",
      "MSSSEEVSWISWFCGLRGNEFFCEVDEDYIQDKFNLTGLNEQVPHYRQALDMILDLEPDEELEDNPNQSDLIEQAAEMLYGLIHARYILTNRGIAQMLEKYQQGDFGYCPRVYCENQPMLPIGLSDIPGEAMVKLYCPKCMDVYTPKSSRHHHTDGAYFGTGFPHMLFMVHPEYRPKRPANQFVPRLYGFKIHPMAYQLQLQAASNFKSPVKTIRSTOPSSARTPGSPSPKPAPFP\n",
      "\n",
      "MSSSEEVSWISWFCGLRGNEFFCEVDEDYIQDKFNLTGLNEQVPHYRQALDMILDLEPDEELEDNPNQSDLIEQAAEMLYGLIHARYILTNRGIAQMLEKYQQGDFGYCPRVYCENQPMLPIGLSDIPGEAMVKLYCPKCMDVYTPKSSRHHHTDGAYFGTGFPHMLFMVHPEYRPKRPANQFVPRLYGFKIHPMAYQLQLQAASNFKSPVKTIRSTOPSSTSRCPGPAVIIPLSTOPSSQGCLYFDFGSTOPCPLWTVFATLQPDFSTOP\n",
      "\n"
     ]
    }
   ],
   "source": [
    "cP = translate(transcribe(cdna))\n",
    "tP = translate(transcribe(tdna))\n",
    "lP = translate(transcribe(ldna))\n",
    "\n",
    "print(cP)\n",
    "print()\n",
    "print(tP)\n",
    "print()\n",
    "print(lP)\n",
    "print()\n"
   ]
  },
  {
   "cell_type": "code",
   "execution_count": 5,
   "metadata": {},
   "outputs": [],
   "source": [
    "TLdiff = diff(tP, lP)\n",
    "\n",
    "TCdiff = diff(tP, cP)\n",
    "\n",
    "CLdiff = diff(cP, lP)\n"
   ]
  },
  {
   "cell_type": "markdown",
   "metadata": {},
   "source": [
    "What can you conclude based on the number of differences between each pair of species?\n",
    "\n",
    "Next, create a function that returns the percent difference between sequences and call it for your three comparisons:"
   ]
  },
  {
   "cell_type": "code",
   "execution_count": 6,
   "metadata": {},
   "outputs": [
    {
     "name": "stdout",
     "output_type": "stream",
     "text": [
      "4.197761194029851\n",
      "1.3806706114398422\n",
      "1.5968063872255487\n"
     ]
    }
   ],
   "source": [
    "def percent(larger_seq, smaller_seq):\n",
    "    \n",
    "    diff_percent = ()\n",
    "    \n",
    "    diff_percent =+ (diff(larger_seq, smaller_seq) / (len(larger_seq) + len(smaller_seq)) / 2 * 100)\n",
    "                     \n",
    "    return diff_percent\n",
    "\n",
    "print(percent(cP, lP))\n",
    "print(percent(tP, lP))\n",
    "print(percent(tP, cP))\n",
    "\n",
    "CL = percent(cP, lP)\n",
    "LT = percent(tP, lP)\n",
    "CT = percent(tP, cP)"
   ]
  },
  {
   "cell_type": "code",
   "execution_count": 7,
   "metadata": {},
   "outputs": [
    {
     "name": "stdout",
     "output_type": "stream",
     "text": [
      "268\n",
      "253\n",
      "250\n"
     ]
    }
   ],
   "source": [
    "avglen_CL = int((len(cP) + len(lP)) / 2)\n",
    "avglen_TL = int((len(tP) + len(lP)) / 2)\n",
    "avglen_CT = int((len(cP) + len(tP)) / 2)\n",
    "\n",
    "print(avglen_CL)\n",
    "print(avglen_TL)\n",
    "print(avglen_CT)\n"
   ]
  },
  {
   "cell_type": "markdown",
   "metadata": {},
   "source": [
    "Let's visualize these results! Choose a graph type that you think will communicate your conclusions effectively and create it using matplotlib:"
   ]
  },
  {
   "cell_type": "code",
   "execution_count": 12,
   "metadata": {},
   "outputs": [
    {
     "data": {
      "image/png": "[encoded data removed]",
      "text/plain": [
       "<Figure size 432x288 with 1 Axes>"
      ]
     },
     "metadata": {
      "needs_background": "light"
     },
     "output_type": "display_data"
    }
   ],
   "source": [
    "import matplotlib.pyplot as plt \n",
    "\n",
    "\n",
    "plt.bar(avglen_CL, CLdiff, label = \"Chicken vs. Lizard (Percent Diff = 4.20 %)\")\n",
    "plt.bar(avglen_TL, TLdiff, label = \"Turtle vs. Lizard (Percent Diff = 1.38 %)\")\n",
    "plt.bar(avglen_CT, TCdiff, label = \"Turtle vs. Chicken (Percent Diff = 1.60 %)\")\n",
    "plt.legend(loc = 2)\n",
    "plt.xticks(range(250, 270, 3))\n",
    "plt.yticks(range(0, 50, 5))\n",
    "plt.ylabel(\"# of Differences in Amino Acid Sequences\")\n",
    "plt.xlabel(\"Average Length of Sequences\")\n",
    "plt.title(\"Number of Differences in DNA Sequences between Animals\")\n",
    "plt.show()"
   ]
  },
  {
   "cell_type": "code",
   "execution_count": 27,
   "metadata": {
    "scrolled": true
   },
   "outputs": [
    {
     "data": {
      "image/png": "[encoded data removed]",
      "text/plain": [
       "<Figure size 432x288 with 1 Axes>"
      ]
     },
     "metadata": {
      "needs_background": "light"
     },
     "output_type": "display_data"
    }
   ],
   "source": [
    "plt.bar(avglen_CL, CL, label = \"Chicken vs. Lizard\")\n",
    "plt.bar(avglen_TL, LT, label = \"Turtle vs. Lizard\")\n",
    "plt.bar(avglen_CT, CT, label = \"Turtle vs. Chicken\")\n",
    "plt.legend()\n",
    "plt.xticks(range(250, 270, 3))\n",
    "plt.xlabel(\"Average Length of Sequences\")\n",
    "plt.ylabel(\"Percent Difference between Sequences\")\n",
    "plt.title(\"Percent Difference between 2 Species' DNA Sequences\")\n",
    "plt.show()"
   ]
  },
  {
   "cell_type": "markdown",
   "metadata": {},
   "source": [
    "## Coding Challenge\n",
    "If you finish your project and want to try a challenge, come up with a hypothesis about which of the following species are most closely related to humans (carp, chicken, chimp, dog, eel, elephant, frog, gorilla, macaque monkey, mouse, orangutan, pig). Write out a ranked list with the species you think is most related to humans at the top.\n",
    "\n",
    "Then calculate the percent difference between the hemoglobin amino acid sequences of humans and each species to find out how close you came to the right ranking!"
   ]
  },
  {
   "cell_type": "code",
   "execution_count": null,
   "metadata": {},
   "outputs": [],
   "source": []
  }
 ],
 "metadata": {
  "kernelspec": {
   "display_name": "Python 3",
   "language": "python",
   "name": "python3"
  },
  "language_info": {
   "codemirror_mode": {
    "name": "ipython",
    "version": 3
   },
   "file_extension": ".py",
   "mimetype": "text/x-python",
   "name": "python",
   "nbconvert_exporter": "python",
   "pygments_lexer": "ipython3",
   "version": "3.7.0"
  }
 },
 "nbformat": 4,
 "nbformat_minor": 2
}
