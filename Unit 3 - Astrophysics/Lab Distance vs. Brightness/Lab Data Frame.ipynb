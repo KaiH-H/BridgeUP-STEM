{
 "cells": [
  {
   "cell_type": "markdown",
   "metadata": {},
   "source": [
    "# Creating your own dataframe\n",
    "\n",
    "This notebook will walk you through the basics of creating a pandas dataframe. You'll use the data you collected in the distance vs brightness lab."
   ]
  },
  {
   "cell_type": "markdown",
   "metadata": {},
   "source": [
    "First, let's import the pandas and matplotlib:"
   ]
  },
  {
   "cell_type": "code",
   "execution_count": 1,
   "metadata": {},
   "outputs": [],
   "source": [
    "import pandas as pd\n",
    "import matplotlib.pyplot as plt\n",
    "import numpy as np"
   ]
  },
  {
   "cell_type": "markdown",
   "metadata": {},
   "source": [
    "Next, create 6 lists: 3 that contain your distance measurements from each experimental run and 3 that contain your brightness measurements from each experimental run."
   ]
  },
  {
   "cell_type": "code",
   "execution_count": 2,
   "metadata": {},
   "outputs": [],
   "source": [
    "# Fill in the lists below\n",
    "\n",
    "dist1 = [0, 10, 20, 30, 40, 50, 60, 70, 80, 90, 100]\n",
    "dist2 = [0, 10, 20, 30, 40, 50, 60, 70, 80, 90, 100]\n",
    "dist3 = [0, 10, 20, 30, 40, 50, 60, 70, 80, 90, 100]\n",
    "brt1 = [18914, 1826, 624, 240, 144, 47, 47, 47, 3, 3, 47]\n",
    "brt2 = [17035, 3415, 818, 337, 144, 94, 47, 47, 3, 3, 47]\n",
    "brt3 = [16651, 16604, 3175, 818, 337, 144, 47, 3, 94, 3, 3]"
   ]
  },
  {
   "cell_type": "markdown",
   "metadata": {},
   "source": [
    "Now we'll create a dataframe based on these lists using the pandas .DataFrame() function."
   ]
  },
  {
   "cell_type": "code",
   "execution_count": 3,
   "metadata": {},
   "outputs": [],
   "source": [
    "df = pd.DataFrame({\"distance 1\": dist1, \"distance 2\": dist2, \"distance 3\": dist3, \n",
    "                   \"brightness 1\": brt1, \"brightness 2\": brt2, \"brightness 3\": brt3})\n",
    "\n",
    "# See those {curly brackets}? This means we're using a special data type called a dictionary!"
   ]
  },
  {
   "cell_type": "markdown",
   "metadata": {},
   "source": [
    "Look at the first 5 lines of our dataframe using the .head() function"
   ]
  },
  {
   "cell_type": "code",
   "execution_count": 4,
   "metadata": {},
   "outputs": [
    {
     "data": {
      "text/html": [
       "<div>\n",
       "<style scoped>\n",
       "    .dataframe tbody tr th:only-of-type {\n",
       "        vertical-align: middle;\n",
       "    }\n",
       "\n",
       "    .dataframe tbody tr th {\n",
       "        vertical-align: top;\n",
       "    }\n",
       "\n",
       "    .dataframe thead th {\n",
       "        text-align: right;\n",
       "    }\n",
       "</style>\n",
       "<table border=\"1\" class=\"dataframe\">\n",
       "  <thead>\n",
       "    <tr style=\"text-align: right;\">\n",
       "      <th></th>\n",
       "      <th>distance 1</th>\n",
       "      <th>distance 2</th>\n",
       "      <th>distance 3</th>\n",
       "      <th>brightness 1</th>\n",
       "      <th>brightness 2</th>\n",
       "      <th>brightness 3</th>\n",
       "    </tr>\n",
       "  </thead>\n",
       "  <tbody>\n",
       "    <tr>\n",
       "      <th>0</th>\n",
       "      <td>0</td>\n",
       "      <td>0</td>\n",
       "      <td>0</td>\n",
       "      <td>18914</td>\n",
       "      <td>17035</td>\n",
       "      <td>16651</td>\n",
       "    </tr>\n",
       "    <tr>\n",
       "      <th>1</th>\n",
       "      <td>10</td>\n",
       "      <td>10</td>\n",
       "      <td>10</td>\n",
       "      <td>1826</td>\n",
       "      <td>3415</td>\n",
       "      <td>16604</td>\n",
       "    </tr>\n",
       "    <tr>\n",
       "      <th>2</th>\n",
       "      <td>20</td>\n",
       "      <td>20</td>\n",
       "      <td>20</td>\n",
       "      <td>624</td>\n",
       "      <td>818</td>\n",
       "      <td>3175</td>\n",
       "    </tr>\n",
       "    <tr>\n",
       "      <th>3</th>\n",
       "      <td>30</td>\n",
       "      <td>30</td>\n",
       "      <td>30</td>\n",
       "      <td>240</td>\n",
       "      <td>337</td>\n",
       "      <td>818</td>\n",
       "    </tr>\n",
       "    <tr>\n",
       "      <th>4</th>\n",
       "      <td>40</td>\n",
       "      <td>40</td>\n",
       "      <td>40</td>\n",
       "      <td>144</td>\n",
       "      <td>144</td>\n",
       "      <td>337</td>\n",
       "    </tr>\n",
       "  </tbody>\n",
       "</table>\n",
       "</div>"
      ],
      "text/plain": [
       "   distance 1  distance 2  distance 3  brightness 1  brightness 2  \\\n",
       "0           0           0           0         18914         17035   \n",
       "1          10          10          10          1826          3415   \n",
       "2          20          20          20           624           818   \n",
       "3          30          30          30           240           337   \n",
       "4          40          40          40           144           144   \n",
       "\n",
       "   brightness 3  \n",
       "0         16651  \n",
       "1         16604  \n",
       "2          3175  \n",
       "3           818  \n",
       "4           337  "
      ]
     },
     "execution_count": 4,
     "metadata": {},
     "output_type": "execute_result"
    }
   ],
   "source": [
    "df.head()"
   ]
  },
  {
   "cell_type": "markdown",
   "metadata": {},
   "source": [
    "Notice that the strings we chose in the .DataFrame() function have become the column headers and the items from the lists are the column values. \n",
    "\n",
    "What order are the columns in?"
   ]
  },
  {
   "cell_type": "markdown",
   "metadata": {},
   "source": [
    "## Pandas review: Dataframe columns"
   ]
  },
  {
   "cell_type": "markdown",
   "metadata": {},
   "source": [
    "Select just the \"brightness 1\" column and assign it to a variable."
   ]
  },
  {
   "cell_type": "code",
   "execution_count": 5,
   "metadata": {},
   "outputs": [],
   "source": [
    "bright1 = df[\"brightness 1\"]\n"
   ]
  },
  {
   "cell_type": "markdown",
   "metadata": {},
   "source": [
    "Use the .head() function to look at the first 10 values in this column."
   ]
  },
  {
   "cell_type": "code",
   "execution_count": 6,
   "metadata": {},
   "outputs": [
    {
     "data": {
      "text/plain": [
       "0    18914\n",
       "1     1826\n",
       "2      624\n",
       "3      240\n",
       "4      144\n",
       "5       47\n",
       "6       47\n",
       "7       47\n",
       "8        3\n",
       "9        3\n",
       "Name: brightness 1, dtype: int64"
      ]
     },
     "execution_count": 6,
     "metadata": {},
     "output_type": "execute_result"
    }
   ],
   "source": [
    "bright1.head(10)"
   ]
  },
  {
   "cell_type": "markdown",
   "metadata": {},
   "source": [
    "Print out the min, max, and average value in this column:"
   ]
  },
  {
   "cell_type": "code",
   "execution_count": 7,
   "metadata": {},
   "outputs": [
    {
     "name": "stdout",
     "output_type": "stream",
     "text": [
      "18914\n",
      "3\n",
      "1994.7272727272727\n"
     ]
    }
   ],
   "source": [
    "# You may have used numpy functions for these calculations in the past, but have you tried pandas methods?\n",
    "# Check your cheat sheet for details\n",
    "\n",
    "print(bright1.max())\n",
    "print(bright1.min())\n",
    "print(bright1.mean())"
   ]
  },
  {
   "cell_type": "markdown",
   "metadata": {},
   "source": [
    "Use the .count() method to find out how many values are in the first brightness column:"
   ]
  },
  {
   "cell_type": "code",
   "execution_count": 8,
   "metadata": {},
   "outputs": [
    {
     "name": "stdout",
     "output_type": "stream",
     "text": [
      "11\n"
     ]
    }
   ],
   "source": [
    "print(bright1.count())"
   ]
  },
  {
   "cell_type": "markdown",
   "metadata": {},
   "source": [
    "Now use the .sum() method to find the sum of all the values in this column:"
   ]
  },
  {
   "cell_type": "code",
   "execution_count": 9,
   "metadata": {},
   "outputs": [
    {
     "name": "stdout",
     "output_type": "stream",
     "text": [
      "21942\n"
     ]
    }
   ],
   "source": [
    "print(bright1.sum())"
   ]
  },
  {
   "cell_type": "markdown",
   "metadata": {},
   "source": [
    "## Adding to a dataframe"
   ]
  },
  {
   "cell_type": "markdown",
   "metadata": {},
   "source": [
    "You have three columns for brightness and three columns for distance, but we're interested in the average for each.\n",
    "\n",
    "We can add a new column to our dataframe that contains the average brightness value like this:"
   ]
  },
  {
   "cell_type": "code",
   "execution_count": 10,
   "metadata": {},
   "outputs": [
    {
     "data": {
      "text/html": [
       "<div>\n",
       "<style scoped>\n",
       "    .dataframe tbody tr th:only-of-type {\n",
       "        vertical-align: middle;\n",
       "    }\n",
       "\n",
       "    .dataframe tbody tr th {\n",
       "        vertical-align: top;\n",
       "    }\n",
       "\n",
       "    .dataframe thead th {\n",
       "        text-align: right;\n",
       "    }\n",
       "</style>\n",
       "<table border=\"1\" class=\"dataframe\">\n",
       "  <thead>\n",
       "    <tr style=\"text-align: right;\">\n",
       "      <th></th>\n",
       "      <th>distance 1</th>\n",
       "      <th>distance 2</th>\n",
       "      <th>distance 3</th>\n",
       "      <th>brightness 1</th>\n",
       "      <th>brightness 2</th>\n",
       "      <th>brightness 3</th>\n",
       "      <th>avg brightness</th>\n",
       "    </tr>\n",
       "  </thead>\n",
       "  <tbody>\n",
       "    <tr>\n",
       "      <th>0</th>\n",
       "      <td>0</td>\n",
       "      <td>0</td>\n",
       "      <td>0</td>\n",
       "      <td>18914</td>\n",
       "      <td>17035</td>\n",
       "      <td>16651</td>\n",
       "      <td>17533.333333</td>\n",
       "    </tr>\n",
       "    <tr>\n",
       "      <th>1</th>\n",
       "      <td>10</td>\n",
       "      <td>10</td>\n",
       "      <td>10</td>\n",
       "      <td>1826</td>\n",
       "      <td>3415</td>\n",
       "      <td>16604</td>\n",
       "      <td>7281.666667</td>\n",
       "    </tr>\n",
       "    <tr>\n",
       "      <th>2</th>\n",
       "      <td>20</td>\n",
       "      <td>20</td>\n",
       "      <td>20</td>\n",
       "      <td>624</td>\n",
       "      <td>818</td>\n",
       "      <td>3175</td>\n",
       "      <td>1539.000000</td>\n",
       "    </tr>\n",
       "    <tr>\n",
       "      <th>3</th>\n",
       "      <td>30</td>\n",
       "      <td>30</td>\n",
       "      <td>30</td>\n",
       "      <td>240</td>\n",
       "      <td>337</td>\n",
       "      <td>818</td>\n",
       "      <td>465.000000</td>\n",
       "    </tr>\n",
       "    <tr>\n",
       "      <th>4</th>\n",
       "      <td>40</td>\n",
       "      <td>40</td>\n",
       "      <td>40</td>\n",
       "      <td>144</td>\n",
       "      <td>144</td>\n",
       "      <td>337</td>\n",
       "      <td>208.333333</td>\n",
       "    </tr>\n",
       "  </tbody>\n",
       "</table>\n",
       "</div>"
      ],
      "text/plain": [
       "   distance 1  distance 2  distance 3  brightness 1  brightness 2  \\\n",
       "0           0           0           0         18914         17035   \n",
       "1          10          10          10          1826          3415   \n",
       "2          20          20          20           624           818   \n",
       "3          30          30          30           240           337   \n",
       "4          40          40          40           144           144   \n",
       "\n",
       "   brightness 3  avg brightness  \n",
       "0         16651    17533.333333  \n",
       "1         16604     7281.666667  \n",
       "2          3175     1539.000000  \n",
       "3           818      465.000000  \n",
       "4           337      208.333333  "
      ]
     },
     "execution_count": 10,
     "metadata": {},
     "output_type": "execute_result"
    }
   ],
   "source": [
    "df[\"avg brightness\"] = df[[\"brightness 1\", \"brightness 2\", \"brightness 3\"]].mean(axis=1)\n",
    "\n",
    "# Notes:\n",
    "# \"avg brightness\" is the name of the new column\n",
    "# We are specifying which columns to average together using an index in brackets\n",
    "# We're using the pandas .mean() method again!\n",
    "# axis=1 specifies that pandas should find the mean across columns. \n",
    "# (axis=0 would tell pandas to find the mean across rows)\n",
    "\n",
    "df.head(5)"
   ]
  },
  {
   "cell_type": "markdown",
   "metadata": {},
   "source": [
    "Assign the \"avg brightness\" column to a new variable:"
   ]
  },
  {
   "cell_type": "code",
   "execution_count": 11,
   "metadata": {},
   "outputs": [],
   "source": [
    "avgbrt = df[\"avg brightness\"]"
   ]
  },
  {
   "cell_type": "markdown",
   "metadata": {},
   "source": [
    "What is the data type of the \"avg brightness\" column? (Hint: use the .dtypes method)"
   ]
  },
  {
   "cell_type": "code",
   "execution_count": 12,
   "metadata": {},
   "outputs": [
    {
     "data": {
      "text/plain": [
       "dtype('float64')"
      ]
     },
     "execution_count": 12,
     "metadata": {},
     "output_type": "execute_result"
    }
   ],
   "source": [
    "avgbrt.dtypes"
   ]
  },
  {
   "cell_type": "markdown",
   "metadata": {},
   "source": [
    "Let's compare this to the rest of the columns. (Hint: try running the .dtypes method on the whole dataframe)"
   ]
  },
  {
   "cell_type": "code",
   "execution_count": 13,
   "metadata": {},
   "outputs": [
    {
     "data": {
      "text/plain": [
       "distance 1          int64\n",
       "distance 2          int64\n",
       "distance 3          int64\n",
       "brightness 1        int64\n",
       "brightness 2        int64\n",
       "brightness 3        int64\n",
       "avg brightness    float64\n",
       "dtype: object"
      ]
     },
     "execution_count": 13,
     "metadata": {},
     "output_type": "execute_result"
    }
   ],
   "source": [
    "df.dtypes"
   ]
  },
  {
   "cell_type": "markdown",
   "metadata": {
    "collapsed": true
   },
   "source": [
    "Your turn! Create another column called \"avg distance\" that contains the average distance for each step in the experiment."
   ]
  },
  {
   "cell_type": "code",
   "execution_count": 14,
   "metadata": {},
   "outputs": [
    {
     "data": {
      "text/html": [
       "<div>\n",
       "<style scoped>\n",
       "    .dataframe tbody tr th:only-of-type {\n",
       "        vertical-align: middle;\n",
       "    }\n",
       "\n",
       "    .dataframe tbody tr th {\n",
       "        vertical-align: top;\n",
       "    }\n",
       "\n",
       "    .dataframe thead th {\n",
       "        text-align: right;\n",
       "    }\n",
       "</style>\n",
       "<table border=\"1\" class=\"dataframe\">\n",
       "  <thead>\n",
       "    <tr style=\"text-align: right;\">\n",
       "      <th></th>\n",
       "      <th>distance 1</th>\n",
       "      <th>distance 2</th>\n",
       "      <th>distance 3</th>\n",
       "      <th>brightness 1</th>\n",
       "      <th>brightness 2</th>\n",
       "      <th>brightness 3</th>\n",
       "      <th>avg brightness</th>\n",
       "      <th>avg distance</th>\n",
       "    </tr>\n",
       "  </thead>\n",
       "  <tbody>\n",
       "    <tr>\n",
       "      <th>0</th>\n",
       "      <td>0</td>\n",
       "      <td>0</td>\n",
       "      <td>0</td>\n",
       "      <td>18914</td>\n",
       "      <td>17035</td>\n",
       "      <td>16651</td>\n",
       "      <td>17533.333333</td>\n",
       "      <td>0.0</td>\n",
       "    </tr>\n",
       "    <tr>\n",
       "      <th>1</th>\n",
       "      <td>10</td>\n",
       "      <td>10</td>\n",
       "      <td>10</td>\n",
       "      <td>1826</td>\n",
       "      <td>3415</td>\n",
       "      <td>16604</td>\n",
       "      <td>7281.666667</td>\n",
       "      <td>10.0</td>\n",
       "    </tr>\n",
       "    <tr>\n",
       "      <th>2</th>\n",
       "      <td>20</td>\n",
       "      <td>20</td>\n",
       "      <td>20</td>\n",
       "      <td>624</td>\n",
       "      <td>818</td>\n",
       "      <td>3175</td>\n",
       "      <td>1539.000000</td>\n",
       "      <td>20.0</td>\n",
       "    </tr>\n",
       "    <tr>\n",
       "      <th>3</th>\n",
       "      <td>30</td>\n",
       "      <td>30</td>\n",
       "      <td>30</td>\n",
       "      <td>240</td>\n",
       "      <td>337</td>\n",
       "      <td>818</td>\n",
       "      <td>465.000000</td>\n",
       "      <td>30.0</td>\n",
       "    </tr>\n",
       "    <tr>\n",
       "      <th>4</th>\n",
       "      <td>40</td>\n",
       "      <td>40</td>\n",
       "      <td>40</td>\n",
       "      <td>144</td>\n",
       "      <td>144</td>\n",
       "      <td>337</td>\n",
       "      <td>208.333333</td>\n",
       "      <td>40.0</td>\n",
       "    </tr>\n",
       "  </tbody>\n",
       "</table>\n",
       "</div>"
      ],
      "text/plain": [
       "   distance 1  distance 2  distance 3  brightness 1  brightness 2  \\\n",
       "0           0           0           0         18914         17035   \n",
       "1          10          10          10          1826          3415   \n",
       "2          20          20          20           624           818   \n",
       "3          30          30          30           240           337   \n",
       "4          40          40          40           144           144   \n",
       "\n",
       "   brightness 3  avg brightness  avg distance  \n",
       "0         16651    17533.333333           0.0  \n",
       "1         16604     7281.666667          10.0  \n",
       "2          3175     1539.000000          20.0  \n",
       "3           818      465.000000          30.0  \n",
       "4           337      208.333333          40.0  "
      ]
     },
     "execution_count": 14,
     "metadata": {},
     "output_type": "execute_result"
    }
   ],
   "source": [
    "df[\"avg distance\"] = df[[\"distance 1\", \"distance 2\", \"distance 3\"]].mean(axis=1)\n",
    "df.head()"
   ]
  },
  {
   "cell_type": "markdown",
   "metadata": {},
   "source": [
    "Assign your new column to a variable and print out the first 10 values:"
   ]
  },
  {
   "cell_type": "code",
   "execution_count": 15,
   "metadata": {},
   "outputs": [
    {
     "data": {
      "text/plain": [
       "0     0.0\n",
       "1    10.0\n",
       "2    20.0\n",
       "3    30.0\n",
       "4    40.0\n",
       "Name: avg distance, dtype: float64"
      ]
     },
     "execution_count": 15,
     "metadata": {},
     "output_type": "execute_result"
    }
   ],
   "source": [
    "avgdis = df[\"avg distance\"]\n",
    "\n",
    "avgdis.head()"
   ]
  },
  {
   "cell_type": "markdown",
   "metadata": {},
   "source": [
    "## Sorting dataframes"
   ]
  },
  {
   "cell_type": "markdown",
   "metadata": {},
   "source": [
    "Now let's do some more data analysis using pandas. We can use the .sort_values() function to sort our data by average brightness."
   ]
  },
  {
   "cell_type": "code",
   "execution_count": 16,
   "metadata": {},
   "outputs": [
    {
     "data": {
      "text/html": [
       "<div>\n",
       "<style scoped>\n",
       "    .dataframe tbody tr th:only-of-type {\n",
       "        vertical-align: middle;\n",
       "    }\n",
       "\n",
       "    .dataframe tbody tr th {\n",
       "        vertical-align: top;\n",
       "    }\n",
       "\n",
       "    .dataframe thead th {\n",
       "        text-align: right;\n",
       "    }\n",
       "</style>\n",
       "<table border=\"1\" class=\"dataframe\">\n",
       "  <thead>\n",
       "    <tr style=\"text-align: right;\">\n",
       "      <th></th>\n",
       "      <th>distance 1</th>\n",
       "      <th>distance 2</th>\n",
       "      <th>distance 3</th>\n",
       "      <th>brightness 1</th>\n",
       "      <th>brightness 2</th>\n",
       "      <th>brightness 3</th>\n",
       "      <th>avg brightness</th>\n",
       "      <th>avg distance</th>\n",
       "    </tr>\n",
       "  </thead>\n",
       "  <tbody>\n",
       "    <tr>\n",
       "      <th>9</th>\n",
       "      <td>90</td>\n",
       "      <td>90</td>\n",
       "      <td>90</td>\n",
       "      <td>3</td>\n",
       "      <td>3</td>\n",
       "      <td>3</td>\n",
       "      <td>3.000000</td>\n",
       "      <td>90.0</td>\n",
       "    </tr>\n",
       "    <tr>\n",
       "      <th>7</th>\n",
       "      <td>70</td>\n",
       "      <td>70</td>\n",
       "      <td>70</td>\n",
       "      <td>47</td>\n",
       "      <td>47</td>\n",
       "      <td>3</td>\n",
       "      <td>32.333333</td>\n",
       "      <td>70.0</td>\n",
       "    </tr>\n",
       "    <tr>\n",
       "      <th>10</th>\n",
       "      <td>100</td>\n",
       "      <td>100</td>\n",
       "      <td>100</td>\n",
       "      <td>47</td>\n",
       "      <td>47</td>\n",
       "      <td>3</td>\n",
       "      <td>32.333333</td>\n",
       "      <td>100.0</td>\n",
       "    </tr>\n",
       "    <tr>\n",
       "      <th>8</th>\n",
       "      <td>80</td>\n",
       "      <td>80</td>\n",
       "      <td>80</td>\n",
       "      <td>3</td>\n",
       "      <td>3</td>\n",
       "      <td>94</td>\n",
       "      <td>33.333333</td>\n",
       "      <td>80.0</td>\n",
       "    </tr>\n",
       "    <tr>\n",
       "      <th>6</th>\n",
       "      <td>60</td>\n",
       "      <td>60</td>\n",
       "      <td>60</td>\n",
       "      <td>47</td>\n",
       "      <td>47</td>\n",
       "      <td>47</td>\n",
       "      <td>47.000000</td>\n",
       "      <td>60.0</td>\n",
       "    </tr>\n",
       "    <tr>\n",
       "      <th>5</th>\n",
       "      <td>50</td>\n",
       "      <td>50</td>\n",
       "      <td>50</td>\n",
       "      <td>47</td>\n",
       "      <td>94</td>\n",
       "      <td>144</td>\n",
       "      <td>95.000000</td>\n",
       "      <td>50.0</td>\n",
       "    </tr>\n",
       "    <tr>\n",
       "      <th>4</th>\n",
       "      <td>40</td>\n",
       "      <td>40</td>\n",
       "      <td>40</td>\n",
       "      <td>144</td>\n",
       "      <td>144</td>\n",
       "      <td>337</td>\n",
       "      <td>208.333333</td>\n",
       "      <td>40.0</td>\n",
       "    </tr>\n",
       "    <tr>\n",
       "      <th>3</th>\n",
       "      <td>30</td>\n",
       "      <td>30</td>\n",
       "      <td>30</td>\n",
       "      <td>240</td>\n",
       "      <td>337</td>\n",
       "      <td>818</td>\n",
       "      <td>465.000000</td>\n",
       "      <td>30.0</td>\n",
       "    </tr>\n",
       "    <tr>\n",
       "      <th>2</th>\n",
       "      <td>20</td>\n",
       "      <td>20</td>\n",
       "      <td>20</td>\n",
       "      <td>624</td>\n",
       "      <td>818</td>\n",
       "      <td>3175</td>\n",
       "      <td>1539.000000</td>\n",
       "      <td>20.0</td>\n",
       "    </tr>\n",
       "    <tr>\n",
       "      <th>1</th>\n",
       "      <td>10</td>\n",
       "      <td>10</td>\n",
       "      <td>10</td>\n",
       "      <td>1826</td>\n",
       "      <td>3415</td>\n",
       "      <td>16604</td>\n",
       "      <td>7281.666667</td>\n",
       "      <td>10.0</td>\n",
       "    </tr>\n",
       "  </tbody>\n",
       "</table>\n",
       "</div>"
      ],
      "text/plain": [
       "    distance 1  distance 2  distance 3  brightness 1  brightness 2  \\\n",
       "9           90          90          90             3             3   \n",
       "7           70          70          70            47            47   \n",
       "10         100         100         100            47            47   \n",
       "8           80          80          80             3             3   \n",
       "6           60          60          60            47            47   \n",
       "5           50          50          50            47            94   \n",
       "4           40          40          40           144           144   \n",
       "3           30          30          30           240           337   \n",
       "2           20          20          20           624           818   \n",
       "1           10          10          10          1826          3415   \n",
       "\n",
       "    brightness 3  avg brightness  avg distance  \n",
       "9              3        3.000000          90.0  \n",
       "7              3       32.333333          70.0  \n",
       "10             3       32.333333         100.0  \n",
       "8             94       33.333333          80.0  \n",
       "6             47       47.000000          60.0  \n",
       "5            144       95.000000          50.0  \n",
       "4            337      208.333333          40.0  \n",
       "3            818      465.000000          30.0  \n",
       "2           3175     1539.000000          20.0  \n",
       "1          16604     7281.666667          10.0  "
      ]
     },
     "execution_count": 16,
     "metadata": {},
     "output_type": "execute_result"
    }
   ],
   "source": [
    "df_sorted = df.sort_values([\"avg brightness\"]) # specify the column that you want to use for the sort using an index\n",
    "# Note that we need to assign the sorted dataframe to a new variable\n",
    "\n",
    "df_sorted.head(10) # Look at the first 10 lines of the sorted file"
   ]
  },
  {
   "cell_type": "markdown",
   "metadata": {},
   "source": [
    "Look at the distances in this sorted dataframe. Do the lowest brightness values occur at large or small distances?\n",
    "\n",
    "What if we want to look at the highest brightness values? We can sort the data in reverse by adding another argument to the sort_values() function."
   ]
  },
  {
   "cell_type": "code",
   "execution_count": 17,
   "metadata": {},
   "outputs": [
    {
     "data": {
      "text/html": [
       "<div>\n",
       "<style scoped>\n",
       "    .dataframe tbody tr th:only-of-type {\n",
       "        vertical-align: middle;\n",
       "    }\n",
       "\n",
       "    .dataframe tbody tr th {\n",
       "        vertical-align: top;\n",
       "    }\n",
       "\n",
       "    .dataframe thead th {\n",
       "        text-align: right;\n",
       "    }\n",
       "</style>\n",
       "<table border=\"1\" class=\"dataframe\">\n",
       "  <thead>\n",
       "    <tr style=\"text-align: right;\">\n",
       "      <th></th>\n",
       "      <th>distance 1</th>\n",
       "      <th>distance 2</th>\n",
       "      <th>distance 3</th>\n",
       "      <th>brightness 1</th>\n",
       "      <th>brightness 2</th>\n",
       "      <th>brightness 3</th>\n",
       "      <th>avg brightness</th>\n",
       "      <th>avg distance</th>\n",
       "    </tr>\n",
       "  </thead>\n",
       "  <tbody>\n",
       "    <tr>\n",
       "      <th>0</th>\n",
       "      <td>0</td>\n",
       "      <td>0</td>\n",
       "      <td>0</td>\n",
       "      <td>18914</td>\n",
       "      <td>17035</td>\n",
       "      <td>16651</td>\n",
       "      <td>17533.333333</td>\n",
       "      <td>0.0</td>\n",
       "    </tr>\n",
       "    <tr>\n",
       "      <th>1</th>\n",
       "      <td>10</td>\n",
       "      <td>10</td>\n",
       "      <td>10</td>\n",
       "      <td>1826</td>\n",
       "      <td>3415</td>\n",
       "      <td>16604</td>\n",
       "      <td>7281.666667</td>\n",
       "      <td>10.0</td>\n",
       "    </tr>\n",
       "    <tr>\n",
       "      <th>2</th>\n",
       "      <td>20</td>\n",
       "      <td>20</td>\n",
       "      <td>20</td>\n",
       "      <td>624</td>\n",
       "      <td>818</td>\n",
       "      <td>3175</td>\n",
       "      <td>1539.000000</td>\n",
       "      <td>20.0</td>\n",
       "    </tr>\n",
       "    <tr>\n",
       "      <th>3</th>\n",
       "      <td>30</td>\n",
       "      <td>30</td>\n",
       "      <td>30</td>\n",
       "      <td>240</td>\n",
       "      <td>337</td>\n",
       "      <td>818</td>\n",
       "      <td>465.000000</td>\n",
       "      <td>30.0</td>\n",
       "    </tr>\n",
       "    <tr>\n",
       "      <th>4</th>\n",
       "      <td>40</td>\n",
       "      <td>40</td>\n",
       "      <td>40</td>\n",
       "      <td>144</td>\n",
       "      <td>144</td>\n",
       "      <td>337</td>\n",
       "      <td>208.333333</td>\n",
       "      <td>40.0</td>\n",
       "    </tr>\n",
       "    <tr>\n",
       "      <th>5</th>\n",
       "      <td>50</td>\n",
       "      <td>50</td>\n",
       "      <td>50</td>\n",
       "      <td>47</td>\n",
       "      <td>94</td>\n",
       "      <td>144</td>\n",
       "      <td>95.000000</td>\n",
       "      <td>50.0</td>\n",
       "    </tr>\n",
       "    <tr>\n",
       "      <th>6</th>\n",
       "      <td>60</td>\n",
       "      <td>60</td>\n",
       "      <td>60</td>\n",
       "      <td>47</td>\n",
       "      <td>47</td>\n",
       "      <td>47</td>\n",
       "      <td>47.000000</td>\n",
       "      <td>60.0</td>\n",
       "    </tr>\n",
       "    <tr>\n",
       "      <th>8</th>\n",
       "      <td>80</td>\n",
       "      <td>80</td>\n",
       "      <td>80</td>\n",
       "      <td>3</td>\n",
       "      <td>3</td>\n",
       "      <td>94</td>\n",
       "      <td>33.333333</td>\n",
       "      <td>80.0</td>\n",
       "    </tr>\n",
       "    <tr>\n",
       "      <th>7</th>\n",
       "      <td>70</td>\n",
       "      <td>70</td>\n",
       "      <td>70</td>\n",
       "      <td>47</td>\n",
       "      <td>47</td>\n",
       "      <td>3</td>\n",
       "      <td>32.333333</td>\n",
       "      <td>70.0</td>\n",
       "    </tr>\n",
       "    <tr>\n",
       "      <th>10</th>\n",
       "      <td>100</td>\n",
       "      <td>100</td>\n",
       "      <td>100</td>\n",
       "      <td>47</td>\n",
       "      <td>47</td>\n",
       "      <td>3</td>\n",
       "      <td>32.333333</td>\n",
       "      <td>100.0</td>\n",
       "    </tr>\n",
       "  </tbody>\n",
       "</table>\n",
       "</div>"
      ],
      "text/plain": [
       "    distance 1  distance 2  distance 3  brightness 1  brightness 2  \\\n",
       "0            0           0           0         18914         17035   \n",
       "1           10          10          10          1826          3415   \n",
       "2           20          20          20           624           818   \n",
       "3           30          30          30           240           337   \n",
       "4           40          40          40           144           144   \n",
       "5           50          50          50            47            94   \n",
       "6           60          60          60            47            47   \n",
       "8           80          80          80             3             3   \n",
       "7           70          70          70            47            47   \n",
       "10         100         100         100            47            47   \n",
       "\n",
       "    brightness 3  avg brightness  avg distance  \n",
       "0          16651    17533.333333           0.0  \n",
       "1          16604     7281.666667          10.0  \n",
       "2           3175     1539.000000          20.0  \n",
       "3            818      465.000000          30.0  \n",
       "4            337      208.333333          40.0  \n",
       "5            144       95.000000          50.0  \n",
       "6             47       47.000000          60.0  \n",
       "8             94       33.333333          80.0  \n",
       "7              3       32.333333          70.0  \n",
       "10             3       32.333333         100.0  "
      ]
     },
     "execution_count": 17,
     "metadata": {},
     "output_type": "execute_result"
    }
   ],
   "source": [
    "# set the ascending argument to False to sort values from highest to lowest\n",
    "df_sorted = df.sort_values([\"avg brightness\"], ascending = False)\n",
    "# We will overwrite our original variable, but you could use a different variable here if you wanted\n",
    "# to store multiple sorted dataframes\n",
    "\n",
    "df_sorted.head(10)"
   ]
  },
  {
   "cell_type": "markdown",
   "metadata": {},
   "source": [
    "Are the distances associated with the largest brightness values large or small?"
   ]
  },
  {
   "cell_type": "markdown",
   "metadata": {},
   "source": [
    "Try it yourself! Sort the dataframe by average distance (low to high) and look at the first 10 rows:"
   ]
  },
  {
   "cell_type": "code",
   "execution_count": 18,
   "metadata": {},
   "outputs": [
    {
     "data": {
      "text/html": [
       "<div>\n",
       "<style scoped>\n",
       "    .dataframe tbody tr th:only-of-type {\n",
       "        vertical-align: middle;\n",
       "    }\n",
       "\n",
       "    .dataframe tbody tr th {\n",
       "        vertical-align: top;\n",
       "    }\n",
       "\n",
       "    .dataframe thead th {\n",
       "        text-align: right;\n",
       "    }\n",
       "</style>\n",
       "<table border=\"1\" class=\"dataframe\">\n",
       "  <thead>\n",
       "    <tr style=\"text-align: right;\">\n",
       "      <th></th>\n",
       "      <th>distance 1</th>\n",
       "      <th>distance 2</th>\n",
       "      <th>distance 3</th>\n",
       "      <th>brightness 1</th>\n",
       "      <th>brightness 2</th>\n",
       "      <th>brightness 3</th>\n",
       "      <th>avg brightness</th>\n",
       "      <th>avg distance</th>\n",
       "    </tr>\n",
       "  </thead>\n",
       "  <tbody>\n",
       "    <tr>\n",
       "      <th>0</th>\n",
       "      <td>0</td>\n",
       "      <td>0</td>\n",
       "      <td>0</td>\n",
       "      <td>18914</td>\n",
       "      <td>17035</td>\n",
       "      <td>16651</td>\n",
       "      <td>17533.333333</td>\n",
       "      <td>0.0</td>\n",
       "    </tr>\n",
       "    <tr>\n",
       "      <th>1</th>\n",
       "      <td>10</td>\n",
       "      <td>10</td>\n",
       "      <td>10</td>\n",
       "      <td>1826</td>\n",
       "      <td>3415</td>\n",
       "      <td>16604</td>\n",
       "      <td>7281.666667</td>\n",
       "      <td>10.0</td>\n",
       "    </tr>\n",
       "    <tr>\n",
       "      <th>2</th>\n",
       "      <td>20</td>\n",
       "      <td>20</td>\n",
       "      <td>20</td>\n",
       "      <td>624</td>\n",
       "      <td>818</td>\n",
       "      <td>3175</td>\n",
       "      <td>1539.000000</td>\n",
       "      <td>20.0</td>\n",
       "    </tr>\n",
       "    <tr>\n",
       "      <th>3</th>\n",
       "      <td>30</td>\n",
       "      <td>30</td>\n",
       "      <td>30</td>\n",
       "      <td>240</td>\n",
       "      <td>337</td>\n",
       "      <td>818</td>\n",
       "      <td>465.000000</td>\n",
       "      <td>30.0</td>\n",
       "    </tr>\n",
       "    <tr>\n",
       "      <th>4</th>\n",
       "      <td>40</td>\n",
       "      <td>40</td>\n",
       "      <td>40</td>\n",
       "      <td>144</td>\n",
       "      <td>144</td>\n",
       "      <td>337</td>\n",
       "      <td>208.333333</td>\n",
       "      <td>40.0</td>\n",
       "    </tr>\n",
       "    <tr>\n",
       "      <th>5</th>\n",
       "      <td>50</td>\n",
       "      <td>50</td>\n",
       "      <td>50</td>\n",
       "      <td>47</td>\n",
       "      <td>94</td>\n",
       "      <td>144</td>\n",
       "      <td>95.000000</td>\n",
       "      <td>50.0</td>\n",
       "    </tr>\n",
       "    <tr>\n",
       "      <th>6</th>\n",
       "      <td>60</td>\n",
       "      <td>60</td>\n",
       "      <td>60</td>\n",
       "      <td>47</td>\n",
       "      <td>47</td>\n",
       "      <td>47</td>\n",
       "      <td>47.000000</td>\n",
       "      <td>60.0</td>\n",
       "    </tr>\n",
       "    <tr>\n",
       "      <th>7</th>\n",
       "      <td>70</td>\n",
       "      <td>70</td>\n",
       "      <td>70</td>\n",
       "      <td>47</td>\n",
       "      <td>47</td>\n",
       "      <td>3</td>\n",
       "      <td>32.333333</td>\n",
       "      <td>70.0</td>\n",
       "    </tr>\n",
       "    <tr>\n",
       "      <th>8</th>\n",
       "      <td>80</td>\n",
       "      <td>80</td>\n",
       "      <td>80</td>\n",
       "      <td>3</td>\n",
       "      <td>3</td>\n",
       "      <td>94</td>\n",
       "      <td>33.333333</td>\n",
       "      <td>80.0</td>\n",
       "    </tr>\n",
       "    <tr>\n",
       "      <th>9</th>\n",
       "      <td>90</td>\n",
       "      <td>90</td>\n",
       "      <td>90</td>\n",
       "      <td>3</td>\n",
       "      <td>3</td>\n",
       "      <td>3</td>\n",
       "      <td>3.000000</td>\n",
       "      <td>90.0</td>\n",
       "    </tr>\n",
       "  </tbody>\n",
       "</table>\n",
       "</div>"
      ],
      "text/plain": [
       "   distance 1  distance 2  distance 3  brightness 1  brightness 2  \\\n",
       "0           0           0           0         18914         17035   \n",
       "1          10          10          10          1826          3415   \n",
       "2          20          20          20           624           818   \n",
       "3          30          30          30           240           337   \n",
       "4          40          40          40           144           144   \n",
       "5          50          50          50            47            94   \n",
       "6          60          60          60            47            47   \n",
       "7          70          70          70            47            47   \n",
       "8          80          80          80             3             3   \n",
       "9          90          90          90             3             3   \n",
       "\n",
       "   brightness 3  avg brightness  avg distance  \n",
       "0         16651    17533.333333           0.0  \n",
       "1         16604     7281.666667          10.0  \n",
       "2          3175     1539.000000          20.0  \n",
       "3           818      465.000000          30.0  \n",
       "4           337      208.333333          40.0  \n",
       "5           144       95.000000          50.0  \n",
       "6            47       47.000000          60.0  \n",
       "7             3       32.333333          70.0  \n",
       "8            94       33.333333          80.0  \n",
       "9             3        3.000000          90.0  "
      ]
     },
     "execution_count": 18,
     "metadata": {},
     "output_type": "execute_result"
    }
   ],
   "source": [
    "avgdis_sort = df.sort_values([\"avg distance\"])\n",
    "\n",
    "avgdis_sort.head(10)"
   ]
  },
  {
   "cell_type": "markdown",
   "metadata": {},
   "source": [
    "## Saving a dataframe as a csv file"
   ]
  },
  {
   "cell_type": "markdown",
   "metadata": {},
   "source": [
    "You can export your dataframe to your computer as a csv using the .to_csv() function."
   ]
  },
  {
   "cell_type": "code",
   "execution_count": 19,
   "metadata": {},
   "outputs": [],
   "source": [
    "df.to_csv(\"lab_averages.csv\", index=False) # index=False removes the index column (1, 2, 3...) from our dataset"
   ]
  },
  {
   "cell_type": "markdown",
   "metadata": {},
   "source": [
    "## Graphing our results"
   ]
  },
  {
   "cell_type": "markdown",
   "metadata": {},
   "source": [
    "Use matplotlib to graph your results. Try plt.scatter() and plt.plot(). What are the strengths and weaknesses of each type of graph?"
   ]
  },
  {
   "cell_type": "code",
   "execution_count": 20,
   "metadata": {},
   "outputs": [
    {
     "data": {
      "image/png": "[encoded data removed]",
      "text/plain": [
       "<Figure size 432x288 with 1 Axes>"
      ]
     },
     "metadata": {},
     "output_type": "display_data"
    }
   ],
   "source": [
    "# Note: try experimenting with the marker argument for your graphs\n",
    "\n",
    "plt.scatter(avgdis, avgbrt)\n",
    "plt.xlabel(\"Distance from Source (cm)\")\n",
    "plt.ylabel(\"Brightness (lx)\")\n",
    "plt.title(\"Brightness in relation to Distance from a Light Source (Scatter Plot)\")\n",
    "plt.xticks(range(0, 101, 10))\n",
    "plt.savefig(\"Brightness vs. Distance_ScatterPlot.png\", dpi = 1000)\n",
    "plt.show()"
   ]
  },
  {
   "cell_type": "code",
   "execution_count": 21,
   "metadata": {},
   "outputs": [
    {
     "data": {
      "image/png": "[encoded data removed]",
      "text/plain": [
       "<Figure size 432x288 with 1 Axes>"
      ]
     },
     "metadata": {},
     "output_type": "display_data"
    }
   ],
   "source": [
    "plt.plot(avgdis, avgbrt, color = \"r\")\n",
    "plt.xlabel(\"Distance from Source (cm)\")\n",
    "plt.ylabel(\"Brightness (lx)\")\n",
    "plt.title(\"Brightness in relation to Distance from a Light Source (Line Graph)\")\n",
    "plt.xticks(range(0, 101, 10))\n",
    "plt.savefig(\"Brightness vs. Distance_LineGraph.png\", dpi = 1000)\n",
    "plt.show()"
   ]
  },
  {
   "cell_type": "code",
   "execution_count": 24,
   "metadata": {},
   "outputs": [
    {
     "data": {
      "image/png": "[encoded data removed]",
      "text/plain": [
       "<Figure size 432x288 with 1 Axes>"
      ]
     },
     "metadata": {},
     "output_type": "display_data"
    }
   ],
   "source": [
    "\n",
    "plt.bar(avgdis, avgbrt)\n",
    "plt.show()"
   ]
  },
  {
   "cell_type": "code",
   "execution_count": 25,
   "metadata": {},
   "outputs": [
    {
     "name": "stdout",
     "output_type": "stream",
     "text": [
      "0     17035\n",
      "1      3415\n",
      "2       818\n",
      "3       337\n",
      "4       144\n",
      "5        94\n",
      "6        47\n",
      "7        47\n",
      "8         3\n",
      "9         3\n",
      "10       47\n",
      "Name: brightness 2, dtype: int64\n"
     ]
    }
   ],
   "source": [
    "brt2 = df[\"brightness 2\"]\n",
    "\n",
    "print(brt2)"
   ]
  },
  {
   "cell_type": "code",
   "execution_count": null,
   "metadata": {},
   "outputs": [],
   "source": []
  }
 ],
 "metadata": {
  "kernelspec": {
   "display_name": "Python 3",
   "language": "python",
   "name": "python3"
  },
  "language_info": {
   "codemirror_mode": {
    "name": "ipython",
    "version": 3
   },
   "file_extension": ".py",
   "mimetype": "text/x-python",
   "name": "python",
   "nbconvert_exporter": "python",
   "pygments_lexer": "ipython3",
   "version": "3.7.0"
  }
 },
 "nbformat": 4,
 "nbformat_minor": 2
}
