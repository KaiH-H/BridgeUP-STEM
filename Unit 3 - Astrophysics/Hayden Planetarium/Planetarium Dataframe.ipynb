{
 "cells": [
  {
   "cell_type": "markdown",
   "metadata": {},
   "source": [
    "# Clinometer activity Pt 2\n",
    "\n",
    "In this notebook you'll create a pandas dataframe with data from the entire class. You will practice using pandas functions and learn how to convert a CSV file to a pandas dataframe."
   ]
  },
  {
   "cell_type": "markdown",
   "metadata": {},
   "source": [
    "Start by importing pandas and numpy"
   ]
  },
  {
   "cell_type": "code",
   "execution_count": 1,
   "metadata": {},
   "outputs": [],
   "source": [
    "import pandas as pd\n",
    "import numpy as np"
   ]
  },
  {
   "cell_type": "markdown",
   "metadata": {},
   "source": [
    "Next, let's open our data file and convert it to a pandas dataframe. \n",
    "\n",
    "This time our dataset is in a CSV file so we can use the pd.read_csv() function:"
   ]
  },
  {
   "cell_type": "code",
   "execution_count": 2,
   "metadata": {},
   "outputs": [],
   "source": [
    "df = pd.read_csv(\"Class_clinometer_data.csv\")"
   ]
  },
  {
   "cell_type": "markdown",
   "metadata": {},
   "source": [
    "Let's take a look at the data! Use the .head() function to look at the first 5 rows of data."
   ]
  },
  {
   "cell_type": "code",
   "execution_count": 3,
   "metadata": {},
   "outputs": [
    {
     "data": {
      "text/html": [
       "<div>\n",
       "<style scoped>\n",
       "    .dataframe tbody tr th:only-of-type {\n",
       "        vertical-align: middle;\n",
       "    }\n",
       "\n",
       "    .dataframe tbody tr th {\n",
       "        vertical-align: top;\n",
       "    }\n",
       "\n",
       "    .dataframe thead th {\n",
       "        text-align: right;\n",
       "    }\n",
       "</style>\n",
       "<table border=\"1\" class=\"dataframe\">\n",
       "  <thead>\n",
       "    <tr style=\"text-align: right;\">\n",
       "      <th></th>\n",
       "      <th>Student height (m)</th>\n",
       "      <th>Building distance (m)</th>\n",
       "      <th>Clinometer angle (deg)</th>\n",
       "    </tr>\n",
       "  </thead>\n",
       "  <tbody>\n",
       "    <tr>\n",
       "      <th>0</th>\n",
       "      <td>1.7200</td>\n",
       "      <td>52.500000</td>\n",
       "      <td>29.0</td>\n",
       "    </tr>\n",
       "    <tr>\n",
       "      <th>1</th>\n",
       "      <td>1.7300</td>\n",
       "      <td>45.000000</td>\n",
       "      <td>34.0</td>\n",
       "    </tr>\n",
       "    <tr>\n",
       "      <th>2</th>\n",
       "      <td>1.6256</td>\n",
       "      <td>45.034176</td>\n",
       "      <td>31.5</td>\n",
       "    </tr>\n",
       "    <tr>\n",
       "      <th>3</th>\n",
       "      <td>1.6800</td>\n",
       "      <td>52.500000</td>\n",
       "      <td>26.0</td>\n",
       "    </tr>\n",
       "    <tr>\n",
       "      <th>4</th>\n",
       "      <td>1.6002</td>\n",
       "      <td>52.500000</td>\n",
       "      <td>33.0</td>\n",
       "    </tr>\n",
       "  </tbody>\n",
       "</table>\n",
       "</div>"
      ],
      "text/plain": [
       "   Student height (m)  Building distance (m)  Clinometer angle (deg)\n",
       "0              1.7200              52.500000                    29.0\n",
       "1              1.7300              45.000000                    34.0\n",
       "2              1.6256              45.034176                    31.5\n",
       "3              1.6800              52.500000                    26.0\n",
       "4              1.6002              52.500000                    33.0"
      ]
     },
     "execution_count": 3,
     "metadata": {},
     "output_type": "execute_result"
    }
   ],
   "source": [
    "df.head()"
   ]
  },
  {
   "cell_type": "markdown",
   "metadata": {},
   "source": [
    "Now use the .dtypes command to check the data type of the columns (note this is not a function so you don't need parentheses)"
   ]
  },
  {
   "cell_type": "code",
   "execution_count": 4,
   "metadata": {},
   "outputs": [
    {
     "data": {
      "text/plain": [
       "Student height (m)        float64\n",
       "Building distance (m)     float64\n",
       "Clinometer angle (deg)    float64\n",
       "dtype: object"
      ]
     },
     "execution_count": 4,
     "metadata": {},
     "output_type": "execute_result"
    }
   ],
   "source": [
    "df.dtypes"
   ]
  },
  {
   "cell_type": "markdown",
   "metadata": {},
   "source": [
    "The first column contains the height of everyone in the class.\n",
    "\n",
    "Isolate this column using an index and assign it to a variable. Hint: You'll need to include the column name in the index."
   ]
  },
  {
   "cell_type": "code",
   "execution_count": 5,
   "metadata": {},
   "outputs": [],
   "source": [
    "# Create your variable and assign the \"student height\" column here\n",
    "\n",
    "sh = df[\"Student height (m)\"]"
   ]
  },
  {
   "cell_type": "markdown",
   "metadata": {},
   "source": [
    "Now, print out the average height using the .mean() method."
   ]
  },
  {
   "cell_type": "code",
   "execution_count": 17,
   "metadata": {},
   "outputs": [
    {
     "name": "stdout",
     "output_type": "stream",
     "text": [
      "1.617733333333333\n"
     ]
    }
   ],
   "source": [
    "sh = sh.mean() # Rewriting sh in order for it to be the average student height\n",
    "\n",
    "print(sh)"
   ]
  },
  {
   "cell_type": "markdown",
   "metadata": {},
   "source": [
    "## Adding columns\n",
    "To make our data useful, we need to add some more columns. Let's create a column for theta first.\n",
    "\n",
    "Recall that theta = np.deg2rad(degrees)."
   ]
  },
  {
   "cell_type": "code",
   "execution_count": 18,
   "metadata": {},
   "outputs": [],
   "source": [
    "# Create a new column called \"theta\" \n",
    "# Hint: You will need to use a dataframe index as the argument for the np.deg2rad() function.\n",
    "\n",
    "deg = df[\"Clinometer angle (deg)\"] # Degrees\n",
    "\n",
    "df[\"Theta\"] = np.deg2rad(deg) \n",
    "\n",
    "theta = df[\"Theta\"]"
   ]
  },
  {
   "cell_type": "code",
   "execution_count": 19,
   "metadata": {},
   "outputs": [
    {
     "data": {
      "text/html": [
       "<div>\n",
       "<style scoped>\n",
       "    .dataframe tbody tr th:only-of-type {\n",
       "        vertical-align: middle;\n",
       "    }\n",
       "\n",
       "    .dataframe tbody tr th {\n",
       "        vertical-align: top;\n",
       "    }\n",
       "\n",
       "    .dataframe thead th {\n",
       "        text-align: right;\n",
       "    }\n",
       "</style>\n",
       "<table border=\"1\" class=\"dataframe\">\n",
       "  <thead>\n",
       "    <tr style=\"text-align: right;\">\n",
       "      <th></th>\n",
       "      <th>Student height (m)</th>\n",
       "      <th>Building distance (m)</th>\n",
       "      <th>Clinometer angle (deg)</th>\n",
       "      <th>Theta</th>\n",
       "      <th>Building Height (m)</th>\n",
       "    </tr>\n",
       "  </thead>\n",
       "  <tbody>\n",
       "    <tr>\n",
       "      <th>0</th>\n",
       "      <td>1.7200</td>\n",
       "      <td>52.500000</td>\n",
       "      <td>29.0</td>\n",
       "      <td>0.506145</td>\n",
       "      <td>30.821225</td>\n",
       "    </tr>\n",
       "    <tr>\n",
       "      <th>1</th>\n",
       "      <td>1.7300</td>\n",
       "      <td>45.000000</td>\n",
       "      <td>34.0</td>\n",
       "      <td>0.593412</td>\n",
       "      <td>32.082883</td>\n",
       "    </tr>\n",
       "    <tr>\n",
       "      <th>2</th>\n",
       "      <td>1.6256</td>\n",
       "      <td>45.034176</td>\n",
       "      <td>31.5</td>\n",
       "      <td>0.549779</td>\n",
       "      <td>29.222578</td>\n",
       "    </tr>\n",
       "    <tr>\n",
       "      <th>3</th>\n",
       "      <td>1.6800</td>\n",
       "      <td>52.500000</td>\n",
       "      <td>26.0</td>\n",
       "      <td>0.453786</td>\n",
       "      <td>27.285961</td>\n",
       "    </tr>\n",
       "    <tr>\n",
       "      <th>4</th>\n",
       "      <td>1.6002</td>\n",
       "      <td>52.500000</td>\n",
       "      <td>33.0</td>\n",
       "      <td>0.575959</td>\n",
       "      <td>35.694099</td>\n",
       "    </tr>\n",
       "  </tbody>\n",
       "</table>\n",
       "</div>"
      ],
      "text/plain": [
       "   Student height (m)  Building distance (m)  Clinometer angle (deg)  \\\n",
       "0              1.7200              52.500000                    29.0   \n",
       "1              1.7300              45.000000                    34.0   \n",
       "2              1.6256              45.034176                    31.5   \n",
       "3              1.6800              52.500000                    26.0   \n",
       "4              1.6002              52.500000                    33.0   \n",
       "\n",
       "      Theta  Building Height (m)  \n",
       "0  0.506145            30.821225  \n",
       "1  0.593412            32.082883  \n",
       "2  0.549779            29.222578  \n",
       "3  0.453786            27.285961  \n",
       "4  0.575959            35.694099  "
      ]
     },
     "execution_count": 19,
     "metadata": {},
     "output_type": "execute_result"
    }
   ],
   "source": [
    "df.head() # Check to make sure that your new column is correct"
   ]
  },
  {
   "cell_type": "markdown",
   "metadata": {},
   "source": [
    "Next, let's add a \"building height\" column. \n",
    "\n",
    "Remember that opposite = adjacent * np.tan(theta) and that the building height is opposite + student height."
   ]
  },
  {
   "cell_type": "code",
   "execution_count": 20,
   "metadata": {},
   "outputs": [],
   "source": [
    "# Create a new column called \"building height\"\n",
    "# Choose your dataframe indexes carefully!\n",
    "\n",
    "bd = df[\"Building distance (m)\"] #Building distance\n",
    "\n",
    "opposite = bd * np.tan(theta)\n",
    "\n",
    "df[\"Building Height (m)\"] = sh + opposite # Make sure you account for the students' heights average\n",
    "\n",
    "bh = df[\"Building Height (m)\"] #Building height"
   ]
  },
  {
   "cell_type": "code",
   "execution_count": 21,
   "metadata": {},
   "outputs": [
    {
     "data": {
      "text/html": [
       "<div>\n",
       "<style scoped>\n",
       "    .dataframe tbody tr th:only-of-type {\n",
       "        vertical-align: middle;\n",
       "    }\n",
       "\n",
       "    .dataframe tbody tr th {\n",
       "        vertical-align: top;\n",
       "    }\n",
       "\n",
       "    .dataframe thead th {\n",
       "        text-align: right;\n",
       "    }\n",
       "</style>\n",
       "<table border=\"1\" class=\"dataframe\">\n",
       "  <thead>\n",
       "    <tr style=\"text-align: right;\">\n",
       "      <th></th>\n",
       "      <th>Student height (m)</th>\n",
       "      <th>Building distance (m)</th>\n",
       "      <th>Clinometer angle (deg)</th>\n",
       "      <th>Theta</th>\n",
       "      <th>Building Height (m)</th>\n",
       "    </tr>\n",
       "  </thead>\n",
       "  <tbody>\n",
       "    <tr>\n",
       "      <th>0</th>\n",
       "      <td>1.7200</td>\n",
       "      <td>52.500000</td>\n",
       "      <td>29.0</td>\n",
       "      <td>0.506145</td>\n",
       "      <td>30.718959</td>\n",
       "    </tr>\n",
       "    <tr>\n",
       "      <th>1</th>\n",
       "      <td>1.7300</td>\n",
       "      <td>45.000000</td>\n",
       "      <td>34.0</td>\n",
       "      <td>0.593412</td>\n",
       "      <td>31.970617</td>\n",
       "    </tr>\n",
       "    <tr>\n",
       "      <th>2</th>\n",
       "      <td>1.6256</td>\n",
       "      <td>45.034176</td>\n",
       "      <td>31.5</td>\n",
       "      <td>0.549779</td>\n",
       "      <td>29.214712</td>\n",
       "    </tr>\n",
       "    <tr>\n",
       "      <th>3</th>\n",
       "      <td>1.6800</td>\n",
       "      <td>52.500000</td>\n",
       "      <td>26.0</td>\n",
       "      <td>0.453786</td>\n",
       "      <td>27.223694</td>\n",
       "    </tr>\n",
       "    <tr>\n",
       "      <th>4</th>\n",
       "      <td>1.6002</td>\n",
       "      <td>52.500000</td>\n",
       "      <td>33.0</td>\n",
       "      <td>0.575959</td>\n",
       "      <td>35.711632</td>\n",
       "    </tr>\n",
       "  </tbody>\n",
       "</table>\n",
       "</div>"
      ],
      "text/plain": [
       "   Student height (m)  Building distance (m)  Clinometer angle (deg)  \\\n",
       "0              1.7200              52.500000                    29.0   \n",
       "1              1.7300              45.000000                    34.0   \n",
       "2              1.6256              45.034176                    31.5   \n",
       "3              1.6800              52.500000                    26.0   \n",
       "4              1.6002              52.500000                    33.0   \n",
       "\n",
       "      Theta  Building Height (m)  \n",
       "0  0.506145            30.718959  \n",
       "1  0.593412            31.970617  \n",
       "2  0.549779            29.214712  \n",
       "3  0.453786            27.223694  \n",
       "4  0.575959            35.711632  "
      ]
     },
     "execution_count": 21,
     "metadata": {},
     "output_type": "execute_result"
    }
   ],
   "source": [
    "df.head() # Check to make sure that your new column is correct"
   ]
  },
  {
   "cell_type": "markdown",
   "metadata": {},
   "source": [
    "Now, let's find the average building height for the entire class"
   ]
  },
  {
   "cell_type": "code",
   "execution_count": 22,
   "metadata": {},
   "outputs": [
    {
     "name": "stdout",
     "output_type": "stream",
     "text": [
      "32.43543247045108\n"
     ]
    }
   ],
   "source": [
    "# Hint: Use the .mean() method\n",
    "\n",
    "bhavg = bh.mean() # Building height average\n",
    "\n",
    "print(bhavg)"
   ]
  },
  {
   "cell_type": "code",
   "execution_count": 23,
   "metadata": {},
   "outputs": [
    {
     "name": "stdout",
     "output_type": "stream",
     "text": [
      "The average building height for the Hayden Planetarium is 32.43543247045108 meters.\n"
     ]
    }
   ],
   "source": [
    "print(\"The average building height for the Hayden Planetarium is \" +  str(bhavg) + \" meters.\")"
   ]
  },
  {
   "cell_type": "code",
   "execution_count": null,
   "metadata": {},
   "outputs": [],
   "source": []
  },
  {
   "cell_type": "code",
   "execution_count": null,
   "metadata": {},
   "outputs": [],
   "source": []
  }
 ],
 "metadata": {
  "kernelspec": {
   "display_name": "Python 3",
   "language": "python",
   "name": "python3"
  },
  "language_info": {
   "codemirror_mode": {
    "name": "ipython",
    "version": 3
   },
   "file_extension": ".py",
   "mimetype": "text/x-python",
   "name": "python",
   "nbconvert_exporter": "python",
   "pygments_lexer": "ipython3",
   "version": "3.6.5"
  }
 },
 "nbformat": 4,
 "nbformat_minor": 2
}
