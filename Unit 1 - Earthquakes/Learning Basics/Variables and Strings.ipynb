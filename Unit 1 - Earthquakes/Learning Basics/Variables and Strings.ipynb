{
 "cells": [
  {
   "cell_type": "markdown",
   "metadata": {},
   "source": [
    "## Working with Numbers"
   ]
  },
  {
   "cell_type": "markdown",
   "metadata": {},
   "source": [
    "Assign the percent of each ore that contains the mineral to each variable below:"
   ]
  },
  {
   "cell_type": "code",
   "execution_count": 1,
   "metadata": {},
   "outputs": [],
   "source": [
    "# Note: You do not need to include the % sign. \n",
    "\n",
    "chromium = 25\n",
    "vanadium = 2\n",
    "platinum = 0.0008"
   ]
  },
  {
   "cell_type": "markdown",
   "metadata": {},
   "source": [
    "Now print out each of these variables:"
   ]
  },
  {
   "cell_type": "code",
   "execution_count": 2,
   "metadata": {
    "scrolled": true
   },
   "outputs": [
    {
     "name": "stdout",
     "output_type": "stream",
     "text": [
      "25\n",
      "2\n",
      "0.0008\n"
     ]
    }
   ],
   "source": [
    "print(chromium)\n",
    "print(vanadium)\n",
    "print(platinum)"
   ]
  },
  {
   "cell_type": "markdown",
   "metadata": {},
   "source": [
    "Next, assign the percent of vanadium ore that **does not** contain the mineral to a new variable and then print it out:"
   ]
  },
  {
   "cell_type": "code",
   "execution_count": 3,
   "metadata": {},
   "outputs": [
    {
     "name": "stdout",
     "output_type": "stream",
     "text": [
      "98\n"
     ]
    }
   ],
   "source": [
    "# Hint: You will need to use subtraction\n",
    "\n",
    "whole = 100\n",
    "\n",
    "print(whole - vanadium)"
   ]
  },
  {
   "cell_type": "markdown",
   "metadata": {},
   "source": [
    "Now convert the value you calculated above into a decimal and print the result:"
   ]
  },
  {
   "cell_type": "code",
   "execution_count": 4,
   "metadata": {},
   "outputs": [
    {
     "name": "stdout",
     "output_type": "stream",
     "text": [
      "0.98\n"
     ]
    }
   ],
   "source": [
    "# Hint: You will need to use division\n",
    "\n",
    "WithoutVanadium = 98\n",
    "\n",
    "print(WithoutVanadium*.01)"
   ]
  },
  {
   "cell_type": "markdown",
   "metadata": {},
   "source": [
    "Can you identify which of the values you worked with above are integers and which are floats?"
   ]
  },
  {
   "cell_type": "markdown",
   "metadata": {},
   "source": [
    "## Working with Strings"
   ]
  },
  {
   "cell_type": "markdown",
   "metadata": {},
   "source": [
    "Assign the name of each type of lava to a variable below:"
   ]
  },
  {
   "cell_type": "code",
   "execution_count": 5,
   "metadata": {},
   "outputs": [],
   "source": [
    "# Hint: Remember that strings need to be in quotes!\n",
    "\n",
    "t1 = \"Pahoehoe\"\n",
    "t2 = \"AA\""
   ]
  },
  {
   "cell_type": "markdown",
   "metadata": {},
   "source": [
    "Now print out each of these variables:"
   ]
  },
  {
   "cell_type": "code",
   "execution_count": 6,
   "metadata": {},
   "outputs": [
    {
     "name": "stdout",
     "output_type": "stream",
     "text": [
      "Pahoehoe\n",
      "AA\n"
     ]
    }
   ],
   "source": [
    "print(t1)\n",
    "print(t2)"
   ]
  },
  {
   "cell_type": "markdown",
   "metadata": {},
   "source": [
    "You can add strings together to make one long print statement, even if some of those strings are stored in variables. \n",
    "\n",
    "Assign your name as a string to the name variable below and then run the cell below to see how it works:"
   ]
  },
  {
   "cell_type": "code",
   "execution_count": 7,
   "metadata": {},
   "outputs": [
    {
     "name": "stdout",
     "output_type": "stream",
     "text": [
      "Hello Kai. You are cool!\n"
     ]
    }
   ],
   "source": [
    "name = \"Kai\"\n",
    "print(\"Hello \" + name + \". You are cool!\")"
   ]
  },
  {
   "cell_type": "markdown",
   "metadata": {},
   "source": [
    "Now try printing out a sentence that tells the reader what the two types of lava are:"
   ]
  },
  {
   "cell_type": "code",
   "execution_count": 8,
   "metadata": {},
   "outputs": [
    {
     "name": "stdout",
     "output_type": "stream",
     "text": [
      "The two types of lava are Pahoehoe and AA\n"
     ]
    }
   ],
   "source": [
    "print(\"The two types of lava are \" + t1 + \" and \" + t2)"
   ]
  },
  {
   "cell_type": "markdown",
   "metadata": {},
   "source": [
    "## Mix 'n Match Data Types"
   ]
  },
  {
   "cell_type": "markdown",
   "metadata": {},
   "source": [
    "Create a variable for each piece of data related to the deformed rocks from Wingdale, NY and decide whether the value should be a string, a float, or an integer:\n",
    "- Where the rock was found\n",
    "- Type of rock\n",
    "- Rock age\n",
    "- Temperature at which the rock formed\n",
    "- Depth at which the rock formed"
   ]
  },
  {
   "cell_type": "code",
   "execution_count": 9,
   "metadata": {},
   "outputs": [],
   "source": [
    "rock_location = \"Wingdale, NY\" #String\n",
    "rock_type = \"Schist\" #String\n",
    "rock_age_mya = 440 #Integer\n",
    "rock_temp_C = 550 #Integer\n",
    "rock_depth_km = 8 #Integer"
   ]
  },
  {
   "cell_type": "markdown",
   "metadata": {},
   "source": [
    "Print out a sentence that explains where the rocks were found and what kind of rock they are:"
   ]
  },
  {
   "cell_type": "code",
   "execution_count": 10,
   "metadata": {},
   "outputs": [
    {
     "name": "stdout",
     "output_type": "stream",
     "text": [
      "The rocks are Shale and they were found in Wingdale, NY\n"
     ]
    }
   ],
   "source": [
    "print(\"The rocks are Shale and they were found in Wingdale, NY\")"
   ]
  },
  {
   "cell_type": "markdown",
   "metadata": {},
   "source": [
    "Print out the difference between the deformed rock's temperature at formation and the boiling point of water (100 degrees Celsius):"
   ]
  },
  {
   "cell_type": "code",
   "execution_count": 11,
   "metadata": {},
   "outputs": [
    {
     "name": "stdout",
     "output_type": "stream",
     "text": [
      "The deform's rock temperature was 550ºC while the boiling point of water is 100ºC, so they have a difference of 450ºC\n"
     ]
    }
   ],
   "source": [
    "print(\"The deform's rock temperature was 550ºC while the boiling point of water is 100ºC, so they have a difference of 450ºC\")"
   ]
  },
  {
   "cell_type": "markdown",
   "metadata": {},
   "source": [
    "Create two new variables that contain the age and length of the San Andreas Fault:"
   ]
  },
  {
   "cell_type": "code",
   "execution_count": 12,
   "metadata": {},
   "outputs": [],
   "source": [
    "fault_age_mya = 30\n",
    "fault_length_km = 1200"
   ]
  },
  {
   "cell_type": "markdown",
   "metadata": {},
   "source": [
    "Print out the difference in age between the deformed rocks and the San Andreas Fault:"
   ]
  },
  {
   "cell_type": "code",
   "execution_count": 13,
   "metadata": {},
   "outputs": [
    {
     "name": "stdout",
     "output_type": "stream",
     "text": [
      "410\n"
     ]
    }
   ],
   "source": [
    "print(rock_age_mya - fault_age_mya)"
   ]
  },
  {
   "cell_type": "markdown",
   "metadata": {},
   "source": [
    "How much longer is the San Andreas Fault than the depth of the deformed rock's formation? Print out the difference:"
   ]
  },
  {
   "cell_type": "code",
   "execution_count": 14,
   "metadata": {},
   "outputs": [
    {
     "name": "stdout",
     "output_type": "stream",
     "text": [
      "1192\n"
     ]
    }
   ],
   "source": [
    "print(fault_length_km - rock_depth_km)"
   ]
  },
  {
   "cell_type": "markdown",
   "metadata": {},
   "source": [
    "## Bonus Challenge 1\n",
    "If you finish everything above, try this bonus challenge\n",
    "\n",
    "Create three new variables with information from your data collection sheet and experiment with adding, subtracting, and printing these variables:"
   ]
  },
  {
   "cell_type": "code",
   "execution_count": 15,
   "metadata": {},
   "outputs": [
    {
     "name": "stdout",
     "output_type": "stream",
     "text": [
      "The San Andreas Fault would take 600000.0 years in order to move 300 km\n"
     ]
    }
   ],
   "source": [
    "# Hint: Think about which data types can be added together\n",
    "\n",
    "move_cm = 5 #How many cm the fault moves per year\n",
    "length_km = 300 #How long the fault is\n",
    "\n",
    "length_cm = length_km * 100 * 100\n",
    "\n",
    "years = str(length_cm / move_cm) #How long it would take to move 300 km\n",
    "\n",
    "print(\"The San Andreas Fault would take \" + years + \" years in order to move 300 km\")"
   ]
  },
  {
   "cell_type": "markdown",
   "metadata": {},
   "source": [
    "## Bonus Challenge 2\n",
    "If you finish everything above, try this bonus challenge\n",
    "\n",
    "Run the code below to learn about the type() function:"
   ]
  },
  {
   "cell_type": "code",
   "execution_count": 16,
   "metadata": {},
   "outputs": [
    {
     "name": "stdout",
     "output_type": "stream",
     "text": [
      "<class 'int'>\n",
      "<class 'str'>\n",
      "<class 'float'>\n"
     ]
    }
   ],
   "source": [
    "var1 = 5\n",
    "var2 = \"Hello\"\n",
    "var3 = 3.2\n",
    "\n",
    "#The type() function tells you the data type of a value\n",
    "print(type(var1))\n",
    "print(type(var2))\n",
    "print(type(var3))"
   ]
  },
  {
   "cell_type": "markdown",
   "metadata": {},
   "source": [
    "Now try it yourself! print out the type of some variables you've created above:"
   ]
  },
  {
   "cell_type": "code",
   "execution_count": 17,
   "metadata": {},
   "outputs": [
    {
     "name": "stdout",
     "output_type": "stream",
     "text": [
      "<class 'str'>\n",
      "<class 'int'>\n",
      "<class 'float'>\n"
     ]
    }
   ],
   "source": [
    "rock_type = \"Shale\"\n",
    "rock_age = 440000000\n",
    "rock_temp_cel = 550.00 \n",
    "\n",
    "print(type(rock_type))\n",
    "print(type(rock_age))\n",
    "print(type(rock_temp_cel))"
   ]
  },
  {
   "cell_type": "markdown",
   "metadata": {},
   "source": [
    "You can also change the type of some values stored in variables using the following functions:\n",
    "- str() turns a value into a string\n",
    "- int() turns a value into an integer\n",
    "- float() turns a value into a float\n",
    "\n",
    "Run the code below to learn more:"
   ]
  },
  {
   "cell_type": "code",
   "execution_count": 18,
   "metadata": {},
   "outputs": [
    {
     "name": "stdout",
     "output_type": "stream",
     "text": [
      "1\n",
      "1.0\n",
      "1.0\n"
     ]
    }
   ],
   "source": [
    "varA = \"1\"\n",
    "varB = 1.0\n",
    "varC = 1\n",
    "\n",
    "print(int(varA))\n",
    "print(str(varB))\n",
    "print(float(varC))"
   ]
  },
  {
   "cell_type": "markdown",
   "metadata": {},
   "source": [
    "Not all values can be turned into all types. Try running the code below:"
   ]
  },
  {
   "cell_type": "code",
   "execution_count": 19,
   "metadata": {},
   "outputs": [
    {
     "ename": "ValueError",
     "evalue": "invalid literal for int() with base 10: 'Hello world!'",
     "output_type": "error",
     "traceback": [
      "\u001b[0;31m---------------------------------------------------------------------------\u001b[0m",
      "\u001b[0;31mValueError\u001b[0m                                Traceback (most recent call last)",
      "\u001b[0;32m<ipython-input-19-ca8a99a00073>\u001b[0m in \u001b[0;36m<module>\u001b[0;34m()\u001b[0m\n\u001b[0;32m----> 1\u001b[0;31m \u001b[0mprint\u001b[0m\u001b[0;34m(\u001b[0m\u001b[0mint\u001b[0m\u001b[0;34m(\u001b[0m\u001b[0;34m\"Hello world!\"\u001b[0m\u001b[0;34m)\u001b[0m\u001b[0;34m)\u001b[0m\u001b[0;34m\u001b[0m\u001b[0m\n\u001b[0m",
      "\u001b[0;31mValueError\u001b[0m: invalid literal for int() with base 10: 'Hello world!'"
     ]
    }
   ],
   "source": [
    "print(int(\"Hello world!\"))"
   ]
  },
  {
   "cell_type": "markdown",
   "metadata": {},
   "source": [
    "Now try it yourself! Create your own variables and try changing their types:"
   ]
  },
  {
   "cell_type": "code",
   "execution_count": 20,
   "metadata": {},
   "outputs": [
    {
     "name": "stdout",
     "output_type": "stream",
     "text": [
      "5\n",
      "5.0\n",
      "5.0\n"
     ]
    }
   ],
   "source": [
    "var1 = \"5\"\n",
    "var2 = 5\n",
    "var3 = 5.0\n",
    "\n",
    "print(int(var1))\n",
    "print(float(var2))\n",
    "print(str(var3))"
   ]
  },
  {
   "cell_type": "code",
   "execution_count": null,
   "metadata": {},
   "outputs": [],
   "source": []
  },
  {
   "cell_type": "code",
   "execution_count": null,
   "metadata": {},
   "outputs": [],
   "source": []
  }
 ],
 "metadata": {
  "kernelspec": {
   "display_name": "Python 3",
   "language": "python",
   "name": "python3"
  },
  "language_info": {
   "codemirror_mode": {
    "name": "ipython",
    "version": 3
   },
   "file_extension": ".py",
   "mimetype": "text/x-python",
   "name": "python",
   "nbconvert_exporter": "python",
   "pygments_lexer": "ipython3",
   "version": "3.6.5"
  }
 },
 "nbformat": 4,
 "nbformat_minor": 2
}
