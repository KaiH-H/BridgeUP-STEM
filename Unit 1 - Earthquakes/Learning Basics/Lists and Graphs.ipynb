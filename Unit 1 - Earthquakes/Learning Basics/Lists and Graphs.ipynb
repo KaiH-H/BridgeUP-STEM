{
 "cells": [
  {
   "cell_type": "markdown",
   "metadata": {},
   "source": [
    "# Tectonic plate speeds and lists\n",
    "\n",
    "In this notebook we'll analyze the speed of different types of tectonic plates. You'll also get to practice using lists.\n",
    "\n",
    "**Reminder: To run the code in a Jupyter Notebook cell, click inside the cell and press \"shift\" and \"return\" on your keyboard at the same time.**"
   ]
  },
  {
   "cell_type": "markdown",
   "metadata": {},
   "source": [
    "## Working with lists\n",
    "Create a variable for each set of tectonic plates and assign a list of speeds to each one:"
   ]
  },
  {
   "cell_type": "code",
   "execution_count": 1,
   "metadata": {},
   "outputs": [],
   "source": [
    "# Lists let you have multiple variables\n",
    "# You should have one list for oceanic plates and one for continental plates\n",
    "\n",
    "o_cm = [7.87, 7.74, 6.11, 7.69, 4.16] #o = oceanic tectonic plates and cm = how many cm they move per year\n",
    "c_cm = [1.71, 4.34, 2.00, 3.35, 1.96] #c = continental techtonic plates cm = how many cm they move per year"
   ]
  },
  {
   "cell_type": "markdown",
   "metadata": {},
   "source": [
    "Use the len() function to find the length of these two lists:"
   ]
  },
  {
   "cell_type": "code",
   "execution_count": 2,
   "metadata": {
    "scrolled": true
   },
   "outputs": [
    {
     "name": "stdout",
     "output_type": "stream",
     "text": [
      "5\n",
      "5\n"
     ]
    }
   ],
   "source": [
    "# len() lets you see how many variables are in a list\n",
    "\n",
    "print(len(o_cm))\n",
    "print(len(c_cm))"
   ]
  },
  {
   "cell_type": "markdown",
   "metadata": {},
   "source": [
    "Now, use the .append() method to add the new values to the lists:"
   ]
  },
  {
   "cell_type": "code",
   "execution_count": 3,
   "metadata": {},
   "outputs": [],
   "source": [
    "# .append() lets you add more variables to a certain list\n",
    "\n",
    "o_cm.append(4.0)\n",
    "c_cm.append(2.14)"
   ]
  },
  {
   "cell_type": "markdown",
   "metadata": {},
   "source": [
    "Print out the lengths of the two lists again:"
   ]
  },
  {
   "cell_type": "code",
   "execution_count": 4,
   "metadata": {},
   "outputs": [
    {
     "name": "stdout",
     "output_type": "stream",
     "text": [
      "6\n",
      "6\n"
     ]
    }
   ],
   "source": [
    "print(len(o_cm))\n",
    "print(len(c_cm))"
   ]
  },
  {
   "cell_type": "markdown",
   "metadata": {},
   "source": [
    "Now, print out the lists themselves:"
   ]
  },
  {
   "cell_type": "code",
   "execution_count": 5,
   "metadata": {},
   "outputs": [
    {
     "name": "stdout",
     "output_type": "stream",
     "text": [
      "[7.87, 7.74, 6.11, 7.69, 4.16, 4.0]\n",
      "[1.71, 4.34, 2.0, 3.35, 1.96, 2.14]\n"
     ]
    }
   ],
   "source": [
    "print(o_cm)\n",
    "print(c_cm)"
   ]
  },
  {
   "cell_type": "markdown",
   "metadata": {},
   "source": [
    "Use the sum() function to find the sum of all values in each list:"
   ]
  },
  {
   "cell_type": "code",
   "execution_count": 6,
   "metadata": {},
   "outputs": [
    {
     "name": "stdout",
     "output_type": "stream",
     "text": [
      "37.57\n",
      "15.5\n"
     ]
    }
   ],
   "source": [
    "# sum() calculates the sum of all numbers in a list\n",
    "\n",
    "print(sum(o_cm))\n",
    "print(sum(c_cm))"
   ]
  },
  {
   "cell_type": "markdown",
   "metadata": {},
   "source": [
    "Use the min() function to find the minimum value in each list:"
   ]
  },
  {
   "cell_type": "code",
   "execution_count": 7,
   "metadata": {},
   "outputs": [
    {
     "name": "stdout",
     "output_type": "stream",
     "text": [
      "4.0\n",
      "1.71\n"
     ]
    }
   ],
   "source": [
    "# min() lets you find the smallest number in a list\n",
    "\n",
    "print(min(o_cm))\n",
    "print(min(c_cm))"
   ]
  },
  {
   "cell_type": "markdown",
   "metadata": {},
   "source": [
    "Use the max() function to find the maximum value in each list:"
   ]
  },
  {
   "cell_type": "code",
   "execution_count": 8,
   "metadata": {},
   "outputs": [
    {
     "name": "stdout",
     "output_type": "stream",
     "text": [
      "7.87\n",
      "4.34\n"
     ]
    }
   ],
   "source": [
    "# max() lets you find the biggest number in a list\n",
    "\n",
    "print(max(o_cm))\n",
    "print(max(c_cm))"
   ]
  },
  {
   "cell_type": "markdown",
   "metadata": {},
   "source": [
    "Use an index to print out the first item in each list:"
   ]
  },
  {
   "cell_type": "code",
   "execution_count": 9,
   "metadata": {},
   "outputs": [
    {
     "name": "stdout",
     "output_type": "stream",
     "text": [
      "7.87\n",
      "1.71\n"
     ]
    }
   ],
   "source": [
    "# Hint: an index looks like this: my_list[1]\n",
    "# Make sure to always put print() before\n",
    "\n",
    "# With indexes, the first placeholder = 0, 2nd = 1, 3rd = 2, and so on\n",
    "\n",
    "print(o_cm[0])\n",
    "print(c_cm[0])"
   ]
  },
  {
   "cell_type": "markdown",
   "metadata": {},
   "source": [
    "## Finding an average\n",
    "Try to calculate the average of the values in each list, assign these values to new variables, and print them out."
   ]
  },
  {
   "cell_type": "code",
   "execution_count": 10,
   "metadata": {},
   "outputs": [
    {
     "name": "stdout",
     "output_type": "stream",
     "text": [
      "6.261666666666667\n",
      "2.5833333333333335\n"
     ]
    }
   ],
   "source": [
    "# Hint: You will need to use list functions\n",
    "\n",
    "oceanic_avg = sum(o_cm) / len(o_cm)\n",
    "continental_avg = sum(c_cm) / len(c_cm)\n",
    "\n",
    "print(oceanic_avg)\n",
    "print(continental_avg)"
   ]
  },
  {
   "cell_type": "markdown",
   "metadata": {},
   "source": [
    "## Making a graph"
   ]
  },
  {
   "cell_type": "code",
   "execution_count": 12,
   "metadata": {},
   "outputs": [
    {
     "data": {
      "image/png": "[encoded data removed]",
      "text/plain": [
       "<Figure size 432x288 with 1 Axes>"
      ]
     },
     "metadata": {},
     "output_type": "display_data"
    }
   ],
   "source": [
    "# We will use the matplotlib library to create a bar graph of the two averages\n",
    "\n",
    "import matplotlib.pyplot as plt # as = defines the import to a new name\n",
    "plt.bar([1,2], [oceanic_avg, continental_avg]) # .bar = shows the average in the bar graph and where to place the bars on the graph\n",
    "plt.xticks([1,2],[\"Oceanic\", \"Continental\"]) # .xticks = names the bars on the x-axis\n",
    "plt.title(\"Average Tectonic Plate Speed\") # .title = names the title of the graph\n",
    "plt.show() # .show = shows the graph itself"
   ]
  },
  {
   "cell_type": "code",
   "execution_count": null,
   "metadata": {},
   "outputs": [],
   "source": []
  },
  {
   "cell_type": "code",
   "execution_count": null,
   "metadata": {},
   "outputs": [],
   "source": []
  }
 ],
 "metadata": {
  "kernelspec": {
   "display_name": "Python 3",
   "language": "python",
   "name": "python3"
  },
  "language_info": {
   "codemirror_mode": {
    "name": "ipython",
    "version": 3
   },
   "file_extension": ".py",
   "mimetype": "text/x-python",
   "name": "python",
   "nbconvert_exporter": "python",
   "pygments_lexer": "ipython3",
   "version": "3.6.5"
  }
 },
 "nbformat": 4,
 "nbformat_minor": 2
}
