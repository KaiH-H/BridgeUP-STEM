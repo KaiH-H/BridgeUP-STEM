{
 "cells": [
  {
   "cell_type": "markdown",
   "metadata": {},
   "source": [
    "# Coding with conditionals\n",
    "\n",
    "In this notebook you'll get a chance to practice conditionals and review the earth science topics we've learned so far. You'll also officially try out pair programming for the first time!\n",
    "\n",
    "**Reminder: To run the code in a Jupyter Notebook cell, click inside the cell and press \"shift\" and \"return\" on your keyboard at the same time.**"
   ]
  },
  {
   "cell_type": "code",
   "execution_count": 7,
   "metadata": {},
   "outputs": [
    {
     "name": "stdout",
     "output_type": "stream",
     "text": [
      "You're not Gabrielle, Anik, nor Gladys\n"
     ]
    }
   ],
   "source": [
    "name = \"Kai\" #Nothing happens because the name isn't equal to Gabrielle\n",
    "if name == \"Gabrielle\": \n",
    "    print(\"Hello, Gabrielle\")\n",
    "elif name == \"Anik\": #\"elif\" is like if, except you can repeat it\n",
    "    print(\"Hello, Anik\")\n",
    "elif name == \"Gladys\":\n",
    "    print(\"Hello, Gladys\")\n",
    "else: #If the name isn't equal to the variable, it will run \"else:\"\n",
    "    print(\"You're not Gabrielle, Anik, nor Gladys.\")"
   ]
  },
  {
   "cell_type": "code",
   "execution_count": 8,
   "metadata": {},
   "outputs": [
    {
     "name": "stdout",
     "output_type": "stream",
     "text": [
      "See me in the Hall of African Mammals!\n"
     ]
    }
   ],
   "source": [
    "animals = [\"triceratops\", \"orangutan\", \"eagle\", \"mammoth\", \"lion\", \"antelope\", \"giraffe\"]\n",
    "\n",
    "# pick one of the animals by filling in the index below:\n",
    "myAnimal = animals[4]\n",
    "\n",
    "if myAnimal == \"triceratops\":\n",
    "    print(\"See me in the Hall of Ornithischian Dinosaurs!\")\n",
    "elif myAnimal == \"orangutan\":\n",
    "    print(\"See me in the Hall of Primates!\")\n",
    "elif myAnimal == \"eagle\":\n",
    "    print(\"See me in the Hall of North American Birds!\")\n",
    "elif myAnimal == \"mammoth\":\n",
    "    print(\"See me in the Hall of Mammals and Their Extinct Relatives!\")\n",
    "else:\n",
    "    print(\"See me in the Hall of African Mammals!\")"
   ]
  },
  {
   "cell_type": "code",
   "execution_count": null,
   "metadata": {},
   "outputs": [],
   "source": [
    "# \"==\" equal\n",
    "# \"!=\" not equal\n",
    "# \"<\" less than\n",
    "# \"<=\" less than or equal to\n",
    "# \">\" greater than\n",
    "# \">=\" greater than or equal to"
   ]
  },
  {
   "cell_type": "markdown",
   "metadata": {},
   "source": [
    "## Pair Programming Part 1: Choose a \"driver\" and a \"navigator\"\n",
    "**The driver will type while the navigator guides her.**"
   ]
  },
  {
   "cell_type": "markdown",
   "metadata": {},
   "source": [
    "Create a variable named \"favNum\" and set it equal to your favorite number. Then run that cell and the one after it."
   ]
  },
  {
   "cell_type": "code",
   "execution_count": 13,
   "metadata": {},
   "outputs": [],
   "source": [
    "favNum = 18"
   ]
  },
  {
   "cell_type": "code",
   "execution_count": 14,
   "metadata": {},
   "outputs": [
    {
     "name": "stdout",
     "output_type": "stream",
     "text": [
      "You favorite number is not less than 5!\n"
     ]
    }
   ],
   "source": [
    "# This is a conditional. Note the \"if\", \"else\", comparison, colons, and indentation:\n",
    "\n",
    "if favNum < 5:\n",
    "    print(\"Your favorite number is less than 5!\")\n",
    "else:\n",
    "    print(\"You favorite number is not less than 5!\")"
   ]
  },
  {
   "cell_type": "markdown",
   "metadata": {},
   "source": [
    "**Coding Challenge:** Try to change the code above so that it includes an \"elif\" statement"
   ]
  },
  {
   "cell_type": "markdown",
   "metadata": {},
   "source": [
    "Here are the lists and averages from last session. Run this code to store this information in our new Jupyter Notebook:"
   ]
  },
  {
   "cell_type": "code",
   "execution_count": 15,
   "metadata": {},
   "outputs": [],
   "source": [
    "# These lists contain the speeds of oceanic and continental tectonic plates\n",
    "oceanic = [7.87, 7.74, 6.11, 7.69, 4.16, 4.0]\n",
    "continental = [1.71, 4.34, 2.00, 3.35, 1.96, 2.14]\n",
    "\n",
    "# This code calculates the average speed for each type of plate and assigns it to a variable\n",
    "oceanic_avg = sum(oceanic)/len(oceanic)\n",
    "continental_avg = sum(continental)/len(continental)"
   ]
  },
  {
   "cell_type": "markdown",
   "metadata": {},
   "source": [
    "Now, create a conditional that compares oceanic_avg and continental_avg and prints out \"Oceanic plates move faster than continental plates\" if that is true or \"Continental plates move faster than oceanic plates\" if that is true:\n",
    "\n",
    "**As a bonus challenge**, include the option \"Continental plates move at the same speed as oceanic plates\" if that is true."
   ]
  },
  {
   "cell_type": "code",
   "execution_count": 17,
   "metadata": {},
   "outputs": [
    {
     "name": "stdout",
     "output_type": "stream",
     "text": [
      "Oceanic plates move faster than continental plates\n"
     ]
    }
   ],
   "source": [
    "if continental_avg > oceanic_avg:\n",
    "    print(\"Continetal plates move faster than oceanic plates\")\n",
    "elif oceanic_avg > continental_avg:\n",
    "    print(\"Oceanic plates move faster than continental plates\")\n",
    "else: \n",
    "    print(\"Continetal plates move at the same speed as Oceanic plates\")"
   ]
  },
  {
   "cell_type": "markdown",
   "metadata": {},
   "source": [
    "## Pair Programming Part 2: Swap \"driver\" and \"navigator\"\n",
    "**The driver will type while the navigator guides her.** \n",
    "\n",
    "Note: Before you start Part 2, this is a good time for the navigator from part 1 to copy the part 1 code into her own Jupyter Notebook. Make sure you discuss any questions you have."
   ]
  },
  {
   "cell_type": "markdown",
   "metadata": {},
   "source": [
    "Write code that prints out the layer of the earth based on the depth in km. Use the following information:\n",
    "- Crust: 5 - 100 km deep\n",
    "- Mantle: 100 - 2700 km deep\n",
    "- Outer core: 2700 - 5100 km deep\n",
    "- Inner core: 5100 - 6300 km deep\n",
    "\n",
    "Test our your code with the following depths: 10 km, 2700 km, 4000 km, 6000 km"
   ]
  },
  {
   "cell_type": "code",
   "execution_count": 30,
   "metadata": {},
   "outputs": [
    {
     "name": "stdout",
     "output_type": "stream",
     "text": [
      "Mantle\n"
     ]
    }
   ],
   "source": [
    "# Hint: You will need to create a variable that points to a particular depth\n",
    "\n",
    "depth = \n",
    "\n",
    "if depth >= 5 and depth <= 100: # You technically don't need the >= 5, etc. You still can use it though, it's valid\n",
    "    print(\"This is in the Crust\")\n",
    "elif depth > 100 and depth <= 2700:\n",
    "    print(\"This is in the Mantle\")\n",
    "elif depth > 2700 and depth <= 5100:\n",
    "    print(\"This is in the Outer Core\")\n",
    "elif depth > 5100 and depth <= 6300:\n",
    "    print(\"This is in the Inner Core\")\n"
   ]
  },
  {
   "cell_type": "markdown",
   "metadata": {},
   "source": [
    "## Bonus Coding Challenge: \n",
    "Conditionals can do more than one thing in each if/elif/else statement. Try writing a conditional that does the following:\n",
    "1. Evaluates a given tectonic plate speed to see if it is between 1-4 cm/year or 4-8 cm/year\n",
    "2. Prints out \"This tectonic plate is most likely an oceanic/continental plate\" as appropriate\n",
    "3. Appends the speed to the appropriate list\n",
    "\n",
    "Test out your conditional with the following speeds: 1.5, 2, 4, 6, 8"
   ]
  },
  {
   "cell_type": "code",
   "execution_count": null,
   "metadata": {},
   "outputs": [],
   "source": []
  }
 ],
 "metadata": {
  "kernelspec": {
   "display_name": "Python 3",
   "language": "python",
   "name": "python3"
  },
  "language_info": {
   "codemirror_mode": {
    "name": "ipython",
    "version": 3
   },
   "file_extension": ".py",
   "mimetype": "text/x-python",
   "name": "python",
   "nbconvert_exporter": "python",
   "pygments_lexer": "ipython3",
   "version": "3.7.0"
  }
 },
 "nbformat": 4,
 "nbformat_minor": 2
}
